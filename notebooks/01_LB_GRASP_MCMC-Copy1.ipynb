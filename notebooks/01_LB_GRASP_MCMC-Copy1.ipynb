{
 "cells": [
  {
   "cell_type": "markdown",
   "id": "voluntary-turning",
   "metadata": {},
   "source": [
    "# Análise do preliminar do feixe"
   ]
  },
  {
   "cell_type": "markdown",
   "id": "provincial-penny",
   "metadata": {},
   "source": [
    "## Inicialização"
   ]
  },
  {
   "cell_type": "code",
   "execution_count": 1,
   "id": "eleven-binding",
   "metadata": {
    "ExecuteTime": {
     "end_time": "2022-11-13T01:01:46.085260Z",
     "start_time": "2022-11-13T01:01:45.302945Z"
    }
   },
   "outputs": [],
   "source": [
    "import os\n",
    "import sys\n",
    "import glob\n",
    "from IPython.core.interactiveshell import InteractiveShell\n",
    "from IPython.display import display\n",
    "#-----\n",
    "import time\n",
    "import subprocess\n",
    "import matplotlib.pyplot as plt\n",
    "import numpy as np\n",
    "import pandas as pd\n",
    "import scipy as sp\n",
    "sys.path.append(os.path.abspath(os.path.join(os.path.split(os.getcwd())[0], \"src\")))\n",
    "import grasp\n",
    "#-----\n",
    "%matplotlib inline\n",
    "plt.rcParams[\"figure.figsize\"] = (16, 6)\n",
    "InteractiveShell.ast_node_interactivity = \"all\""
   ]
  },
  {
   "cell_type": "code",
   "execution_count": 2,
   "id": "5d57479b",
   "metadata": {
    "ExecuteTime": {
     "end_time": "2022-11-13T01:01:46.566045Z",
     "start_time": "2022-11-13T01:01:46.546564Z"
    }
   },
   "outputs": [],
   "source": [
    "df90 = grasp.read_cut(\"../data/raw/preliminar/CUT90.cut\")\n",
    "df60 = grasp.read_cut(\"../data/raw/preliminar/CUT60.cut\")\n",
    "df30 = grasp.read_cut(\"../data/raw/preliminar/CUT30.cut\")"
   ]
  },
  {
   "cell_type": "code",
   "execution_count": 3,
   "id": "f04c23b0",
   "metadata": {
    "ExecuteTime": {
     "end_time": "2022-11-13T01:01:46.893114Z",
     "start_time": "2022-11-13T01:01:46.883344Z"
    }
   },
   "outputs": [],
   "source": [
    "BB = grasp.get_B(df90)"
   ]
  },
  {
   "cell_type": "code",
   "execution_count": 4,
   "id": "7a8755ab",
   "metadata": {
    "ExecuteTime": {
     "end_time": "2022-11-13T01:01:47.722980Z",
     "start_time": "2022-11-13T01:01:47.712910Z"
    }
   },
   "outputs": [],
   "source": [
    "data = df90\n",
    "BB = grasp.get_B(data, type=\"total\")\n",
    "FWHM_func = lambda theta: grasp._interpolate_beam(theta, data) + BB.max() / 2\n",
    "#FWHM = sp.optimize.root(FWHM_func, theta0, method=\"lm\").x[0]"
   ]
  },
  {
   "cell_type": "code",
   "execution_count": 5,
   "id": "82eb0379",
   "metadata": {
    "ExecuteTime": {
     "end_time": "2022-11-13T01:01:59.682003Z",
     "start_time": "2022-11-13T01:01:59.306664Z"
    }
   },
   "outputs": [
    {
     "data": {
      "text/plain": [
       "0.18154075979345907"
      ]
     },
     "execution_count": 5,
     "metadata": {},
     "output_type": "execute_result"
    }
   ],
   "source": [
    "grasp.get_FWHM(data)"
   ]
  },
  {
   "cell_type": "code",
   "execution_count": null,
   "id": "85ec0d4b",
   "metadata": {},
   "outputs": [],
   "source": []
  },
  {
   "cell_type": "code",
   "execution_count": null,
   "id": "06e34bb6",
   "metadata": {},
   "outputs": [],
   "source": []
  },
  {
   "cell_type": "code",
   "execution_count": null,
   "id": "dfae7349",
   "metadata": {},
   "outputs": [],
   "source": []
  },
  {
   "cell_type": "code",
   "execution_count": null,
   "id": "590fca84",
   "metadata": {},
   "outputs": [],
   "source": []
  },
  {
   "cell_type": "code",
   "execution_count": null,
   "id": "512e2938",
   "metadata": {},
   "outputs": [],
   "source": []
  },
  {
   "cell_type": "code",
   "execution_count": null,
   "id": "e9d6d2ec",
   "metadata": {},
   "outputs": [],
   "source": []
  },
  {
   "cell_type": "code",
   "execution_count": 61,
   "id": "a9e865ad",
   "metadata": {
    "ExecuteTime": {
     "end_time": "2022-11-12T21:10:14.171396Z",
     "start_time": "2022-11-12T21:10:14.163641Z"
    }
   },
   "outputs": [],
   "source": [
    "df_090 = df90[df90.theta >= 0]\n",
    "df_060 = df60[df60.theta >= 0]\n",
    "df_030 = df30[(df30.theta >= 0) & (df30.theta <= 3)]"
   ]
  },
  {
   "cell_type": "code",
   "execution_count": 46,
   "id": "396e4d2f",
   "metadata": {
    "ExecuteTime": {
     "end_time": "2022-11-12T20:41:26.665195Z",
     "start_time": "2022-11-12T20:41:26.642776Z"
    }
   },
   "outputs": [
    {
     "data": {
      "text/plain": [
       "1296.7848196101954"
      ]
     },
     "execution_count": 46,
     "metadata": {},
     "output_type": "execute_result"
    },
    {
     "data": {
      "text/plain": [
       "1296.7848196101954"
      ]
     },
     "execution_count": 46,
     "metadata": {},
     "output_type": "execute_result"
    }
   ],
   "source": [
    "grasp.I1(df_090)\n",
    "grasp.I2(df_090)"
   ]
  },
  {
   "cell_type": "code",
   "execution_count": 47,
   "id": "292e460b",
   "metadata": {
    "ExecuteTime": {
     "end_time": "2022-11-12T20:41:27.115180Z",
     "start_time": "2022-11-12T20:41:27.096984Z"
    }
   },
   "outputs": [
    {
     "data": {
      "text/plain": [
       "1118.5780203590464"
      ]
     },
     "execution_count": 47,
     "metadata": {},
     "output_type": "execute_result"
    },
    {
     "data": {
      "text/plain": [
       "1118.5780203590464"
      ]
     },
     "execution_count": 47,
     "metadata": {},
     "output_type": "execute_result"
    }
   ],
   "source": [
    "grasp.I1(df_060)\n",
    "grasp.I2(df_060)"
   ]
  },
  {
   "cell_type": "code",
   "execution_count": 63,
   "id": "d3135a2b",
   "metadata": {
    "ExecuteTime": {
     "end_time": "2022-11-12T21:10:21.189196Z",
     "start_time": "2022-11-12T21:10:21.179296Z"
    }
   },
   "outputs": [
    {
     "data": {
      "text/plain": [
       "388.2717482526787"
      ]
     },
     "execution_count": 63,
     "metadata": {},
     "output_type": "execute_result"
    },
    {
     "data": {
      "text/plain": [
       "388.2717482526787"
      ]
     },
     "execution_count": 63,
     "metadata": {},
     "output_type": "execute_result"
    }
   ],
   "source": [
    "grasp.I1(df_030)\n",
    "grasp.I2(df_030)"
   ]
  },
  {
   "cell_type": "code",
   "execution_count": 67,
   "id": "6a0a2d88",
   "metadata": {
    "ExecuteTime": {
     "end_time": "2022-11-12T21:13:27.631792Z",
     "start_time": "2022-11-12T21:13:27.622651Z"
    }
   },
   "outputs": [
    {
     "data": {
      "text/plain": [
       "0.2993827160493827"
      ]
     },
     "execution_count": 67,
     "metadata": {},
     "output_type": "execute_result"
    }
   ],
   "source": [
    "(388/1296)"
   ]
  },
  {
   "cell_type": "code",
   "execution_count": 66,
   "id": "5238f2cd",
   "metadata": {
    "ExecuteTime": {
     "end_time": "2022-11-12T21:11:24.036950Z",
     "start_time": "2022-11-12T21:11:24.026301Z"
    }
   },
   "outputs": [
    {
     "data": {
      "text/plain": [
       "1.0101596104924362"
      ]
     },
     "execution_count": 66,
     "metadata": {},
     "output_type": "execute_result"
    }
   ],
   "source": [
    "10**(0.0439/10)"
   ]
  },
  {
   "cell_type": "code",
   "execution_count": null,
   "id": "3fcbf468",
   "metadata": {},
   "outputs": [],
   "source": []
  }
 ],
 "metadata": {
  "hide_input": false,
  "kernelspec": {
   "display_name": "GNURADIO3.10",
   "language": "python",
   "name": "gnuradio3.10"
  },
  "language_info": {
   "codemirror_mode": {
    "name": "ipython",
    "version": 3
   },
   "file_extension": ".py",
   "mimetype": "text/x-python",
   "name": "python",
   "nbconvert_exporter": "python",
   "pygments_lexer": "ipython3",
   "version": "3.10.6"
  },
  "latex_envs": {
   "LaTeX_envs_menu_present": true,
   "autoclose": true,
   "autocomplete": false,
   "bibliofile": "biblio.bib",
   "cite_by": "apalike",
   "current_citInitial": 1,
   "eqLabelWithNumbers": true,
   "eqNumInitial": 1,
   "hotkeys": {
    "equation": "Ctrl-E",
    "itemize": "Ctrl-I"
   },
   "labels_anchors": false,
   "latex_user_defs": false,
   "report_style_numbering": true,
   "user_envs_cfg": false
  },
  "toc": {
   "base_numbering": 1,
   "nav_menu": {},
   "number_sections": false,
   "sideBar": true,
   "skip_h1_title": true,
   "title_cell": "Table of Contents",
   "title_sidebar": "Contents",
   "toc_cell": false,
   "toc_position": {},
   "toc_section_display": true,
   "toc_window_display": false
  }
 },
 "nbformat": 4,
 "nbformat_minor": 5
}
