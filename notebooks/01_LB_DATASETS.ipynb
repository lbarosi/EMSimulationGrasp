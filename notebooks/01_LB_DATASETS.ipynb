{
 "cells": [
  {
   "cell_type": "markdown",
   "id": "voluntary-turning",
   "metadata": {},
   "source": [
    "# GRASP Datasets"
   ]
  },
  {
   "cell_type": "markdown",
   "id": "47a52f83",
   "metadata": {},
   "source": [
    " - As operações abaixo editam um arquivo TOR com a geometria indicada, rodam o GRASP e geram um arquivo CUT com os dados do campo elétrico.\n",
    " - A execução do GRASP é realizada em background de modo simultâneo."
   ]
  },
  {
   "cell_type": "markdown",
   "id": "provincial-penny",
   "metadata": {
    "jp-MarkdownHeadingCollapsed": true,
    "tags": []
   },
   "source": [
    "## Inicialização"
   ]
  },
  {
   "cell_type": "code",
   "execution_count": null,
   "id": "eleven-binding",
   "metadata": {
    "ExecuteTime": {
     "end_time": "2022-11-13T01:20:26.840822Z",
     "start_time": "2022-11-13T01:20:26.045826Z"
    },
    "execution": {
     "iopub.execute_input": "2022-11-12T01:06:04.560071Z",
     "iopub.status.busy": "2022-11-12T01:06:04.559105Z",
     "iopub.status.idle": "2022-11-12T01:06:05.257210Z",
     "shell.execute_reply": "2022-11-12T01:06:05.256678Z",
     "shell.execute_reply.started": "2022-11-12T01:06:04.559864Z"
    },
    "tags": []
   },
   "outputs": [],
   "source": [
    "import os\n",
    "import sys\n",
    "import glob\n",
    "from IPython.core.interactiveshell import InteractiveShell\n",
    "from IPython.display import display\n",
    "#-----\n",
    "import time\n",
    "import subprocess\n",
    "import matplotlib.pyplot as plt\n",
    "import numpy as np\n",
    "import pandas as pd\n",
    "sys.path.append(os.path.abspath(os.path.join(os.path.split(os.getcwd())[0], \"src\")))\n",
    "import grasp\n",
    "#-----\n",
    "%matplotlib inline\n",
    "plt.rcParams[\"figure.figsize\"] = (16, 6)\n",
    "InteractiveShell.ast_node_interactivity = \"all\""
   ]
  },
  {
   "cell_type": "markdown",
   "id": "affiliated-distribution",
   "metadata": {
    "jp-MarkdownHeadingCollapsed": true,
    "tags": []
   },
   "source": [
    "## Gerando Datasets"
   ]
  },
  {
   "cell_type": "markdown",
   "id": "745e7e6e",
   "metadata": {
    "jp-MarkdownHeadingCollapsed": true,
    "tags": []
   },
   "source": [
    "### Translações Feed"
   ]
  },
  {
   "cell_type": "code",
   "execution_count": null,
   "id": "49aec927",
   "metadata": {
    "ExecuteTime": {
     "end_time": "2022-11-13T01:20:27.334402Z",
     "start_time": "2022-11-13T01:20:27.328764Z"
    },
    "execution": {
     "iopub.execute_input": "2022-11-11T23:25:23.587190Z",
     "iopub.status.busy": "2022-11-11T23:25:23.586058Z",
     "iopub.status.idle": "2022-11-11T23:25:23.591841Z",
     "shell.execute_reply": "2022-11-11T23:25:23.591482Z",
     "shell.execute_reply.started": "2022-11-11T23:25:23.587106Z"
    },
    "tags": []
   },
   "outputs": [],
   "source": [
    "displacement = np.round(np.linspace(-.3, .3, 7), 1)"
   ]
  },
  {
   "cell_type": "code",
   "execution_count": null,
   "id": "a3e12d37",
   "metadata": {
    "ExecuteTime": {
     "end_time": "2022-11-13T01:21:05.054138Z",
     "start_time": "2022-11-13T01:21:03.849716Z"
    },
    "execution": {
     "iopub.execute_input": "2022-11-11T23:25:24.561066Z",
     "iopub.status.busy": "2022-11-11T23:25:24.560223Z",
     "iopub.status.idle": "2022-11-11T23:25:25.635633Z",
     "shell.execute_reply": "2022-11-11T23:25:25.634975Z",
     "shell.execute_reply.started": "2022-11-11T23:25:24.560986Z"
    },
    "tags": []
   },
   "outputs": [],
   "source": [
    "#----------------\n",
    "# Translação em X\n",
    "#----------------\n",
    "tor_files = []\n",
    "for param in displacement:\n",
    "    tor_file = grasp.make_tor(object=\"feed\", X0=param, verbose=False, prefix=\"_central_\")\n",
    "    tor_files.append(tor_file)\n",
    "# Roda o grasp em background para cada tor file.\n",
    "# Aguarde o final da execução do GRASP antes de prosseguir.\n",
    "time.sleep(1)\n",
    "for tor_file in tor_files:\n",
    "    job = grasp.run_grasp(tor_file)\n",
    "    job.pid"
   ]
  },
  {
   "cell_type": "code",
   "execution_count": null,
   "id": "3738d8a5",
   "metadata": {
    "ExecuteTime": {
     "end_time": "2022-11-13T01:47:48.819200Z",
     "start_time": "2022-11-13T01:47:47.718312Z"
    },
    "execution": {
     "iopub.execute_input": "2022-11-11T23:25:26.455394Z",
     "iopub.status.busy": "2022-11-11T23:25:26.455011Z",
     "iopub.status.idle": "2022-11-11T23:25:27.518317Z",
     "shell.execute_reply": "2022-11-11T23:25:27.517534Z",
     "shell.execute_reply.started": "2022-11-11T23:25:26.455370Z"
    }
   },
   "outputs": [],
   "source": [
    "#----------------\n",
    "# Translação em Y\n",
    "#----------------\n",
    "tor_files = []\n",
    "for param in displacement:\n",
    "    tor_file = grasp.make_tor(object=\"feed\", Y0=param, verbose=False, prefix=\"_central_\")\n",
    "    tor_files.append(tor_file)\n",
    "# Roda o grasp em background para cada tor file.\n",
    "# Aguarde o final da execução do GRASP antes de prosseguir.\n",
    "time.sleep(1)\n",
    "for tor_file in tor_files:\n",
    "    job = grasp.run_grasp(tor_file)\n",
    "    job.pid"
   ]
  },
  {
   "cell_type": "code",
   "execution_count": null,
   "id": "fbb356ad-ebef-4273-ac0a-a76b5f8ff87c",
   "metadata": {
    "execution": {
     "iopub.execute_input": "2022-11-11T23:25:27.880287Z",
     "iopub.status.busy": "2022-11-11T23:25:27.879891Z",
     "iopub.status.idle": "2022-11-11T23:35:27.983577Z",
     "shell.execute_reply": "2022-11-11T23:35:27.982922Z",
     "shell.execute_reply.started": "2022-11-11T23:25:27.880242Z"
    }
   },
   "outputs": [],
   "source": [
    "time.sleep(10*60)"
   ]
  },
  {
   "cell_type": "code",
   "execution_count": null,
   "id": "bc7eec30",
   "metadata": {
    "ExecuteTime": {
     "end_time": "2022-11-13T02:14:37.321962Z",
     "start_time": "2022-11-13T02:14:36.194743Z"
    },
    "execution": {
     "iopub.execute_input": "2022-11-11T23:35:27.985072Z",
     "iopub.status.busy": "2022-11-11T23:35:27.984839Z",
     "iopub.status.idle": "2022-11-11T23:35:29.062077Z",
     "shell.execute_reply": "2022-11-11T23:35:29.061246Z",
     "shell.execute_reply.started": "2022-11-11T23:35:27.985050Z"
    },
    "tags": []
   },
   "outputs": [],
   "source": [
    "#----------------\n",
    "# Translação em Z\n",
    "#----------------\n",
    "tor_files = []\n",
    "for param in displacement:\n",
    "    tor_file = grasp.make_tor(object=\"feed\", Z0=param, verbose=False, prefix=\"_central_\")\n",
    "    tor_files.append(tor_file)\n",
    "# Roda o grasp em background para cada tor file.\n",
    "# Aguarde o final da execução do GRASP antes de prosseguir.\n",
    "time.sleep(1)\n",
    "for tor_file in tor_files:\n",
    "    job = grasp.run_grasp(tor_file)\n",
    "    job.pid"
   ]
  },
  {
   "cell_type": "markdown",
   "id": "0bbee768",
   "metadata": {
    "jp-MarkdownHeadingCollapsed": true,
    "tags": []
   },
   "source": [
    "###  Rotações Feed"
   ]
  },
  {
   "cell_type": "code",
   "execution_count": null,
   "id": "66b3971b",
   "metadata": {
    "ExecuteTime": {
     "end_time": "2022-11-13T12:01:33.967535Z",
     "start_time": "2022-11-13T12:01:33.961537Z"
    },
    "execution": {
     "iopub.execute_input": "2022-11-11T23:35:29.063648Z",
     "iopub.status.busy": "2022-11-11T23:35:29.063318Z",
     "iopub.status.idle": "2022-11-11T23:35:29.067544Z",
     "shell.execute_reply": "2022-11-11T23:35:29.066975Z",
     "shell.execute_reply.started": "2022-11-11T23:35:29.063622Z"
    }
   },
   "outputs": [],
   "source": [
    "params = np.round(np.linspace(-1.5, 1.5, 7), 1)"
   ]
  },
  {
   "cell_type": "code",
   "execution_count": null,
   "id": "84afd96f",
   "metadata": {
    "ExecuteTime": {
     "end_time": "2022-11-13T12:01:35.671191Z",
     "start_time": "2022-11-13T12:01:34.544153Z"
    },
    "execution": {
     "iopub.execute_input": "2022-11-11T23:35:29.069762Z",
     "iopub.status.busy": "2022-11-11T23:35:29.069273Z",
     "iopub.status.idle": "2022-11-11T23:35:30.169713Z",
     "shell.execute_reply": "2022-11-11T23:35:30.168790Z",
     "shell.execute_reply.started": "2022-11-11T23:35:29.069737Z"
    }
   },
   "outputs": [],
   "source": [
    "#----------------\n",
    "# Rotação em X\n",
    "#----------------\n",
    "tor_files = []\n",
    "for param in displacement:\n",
    "    tor_file = grasp.make_tor(object=\"feed\", phi=param, verbose=False, prefix=\"_central_\")\n",
    "    tor_files.append(tor_file)\n",
    "# Roda o grasp em background para cada tor file.\n",
    "# Aguarde o final da execução do GRASP antes de prosseguir.\n",
    "time.sleep(1)\n",
    "for tor_file in tor_files:\n",
    "    job = grasp.run_grasp(tor_file)\n",
    "    job.pid"
   ]
  },
  {
   "cell_type": "code",
   "execution_count": null,
   "id": "9194eaa7-2bec-491f-9f6f-58770bf36a71",
   "metadata": {
    "execution": {
     "iopub.execute_input": "2022-11-11T23:35:30.171532Z",
     "iopub.status.busy": "2022-11-11T23:35:30.171151Z",
     "iopub.status.idle": "2022-11-11T23:45:30.274963Z",
     "shell.execute_reply": "2022-11-11T23:45:30.274220Z",
     "shell.execute_reply.started": "2022-11-11T23:35:30.171504Z"
    }
   },
   "outputs": [],
   "source": [
    "time.sleep(10*60)"
   ]
  },
  {
   "cell_type": "code",
   "execution_count": null,
   "id": "97850c7a",
   "metadata": {
    "ExecuteTime": {
     "end_time": "2022-11-13T12:41:57.257783Z",
     "start_time": "2022-11-13T12:41:56.107223Z"
    },
    "execution": {
     "iopub.execute_input": "2022-11-11T23:45:30.276280Z",
     "iopub.status.busy": "2022-11-11T23:45:30.275960Z",
     "iopub.status.idle": "2022-11-11T23:45:31.345144Z",
     "shell.execute_reply": "2022-11-11T23:45:31.344359Z",
     "shell.execute_reply.started": "2022-11-11T23:45:30.276255Z"
    }
   },
   "outputs": [],
   "source": [
    "#----------------\n",
    "# Rotação em Y\n",
    "#----------------\n",
    "tor_files = []\n",
    "for param in displacement:\n",
    "    tor_file = grasp.make_tor(object=\"feed\", theta=param, verbose=False, prefix=\"_central_\")\n",
    "    tor_files.append(tor_file)\n",
    "# Roda o grasp em background para cada tor file.\n",
    "# Aguarde o final da execução do GRASP antes de prosseguir.\n",
    "time.sleep(1)\n",
    "for tor_file in tor_files:\n",
    "    job = grasp.run_grasp(tor_file)\n",
    "    job.pid"
   ]
  },
  {
   "cell_type": "markdown",
   "id": "be268bcd",
   "metadata": {
    "tags": []
   },
   "source": [
    "### Translações Secundário"
   ]
  },
  {
   "cell_type": "code",
   "execution_count": null,
   "id": "835a5e60",
   "metadata": {
    "ExecuteTime": {
     "end_time": "2022-11-11T17:55:43.338271Z",
     "start_time": "2022-11-11T17:55:43.333914Z"
    },
    "execution": {
     "iopub.execute_input": "2022-11-12T00:39:45.528185Z",
     "iopub.status.busy": "2022-11-12T00:39:45.527273Z",
     "iopub.status.idle": "2022-11-12T00:39:45.532970Z",
     "shell.execute_reply": "2022-11-12T00:39:45.532567Z",
     "shell.execute_reply.started": "2022-11-12T00:39:45.528102Z"
    },
    "tags": []
   },
   "outputs": [],
   "source": [
    "displacement = np.round(np.linspace(-0.5, 0.5, 7), 2)"
   ]
  },
  {
   "cell_type": "code",
   "execution_count": null,
   "id": "8accd6fa",
   "metadata": {
    "ExecuteTime": {
     "end_time": "2022-11-11T17:55:59.857153Z",
     "start_time": "2022-11-11T17:55:59.841813Z"
    },
    "execution": {
     "iopub.execute_input": "2022-11-12T00:39:46.871913Z",
     "iopub.status.busy": "2022-11-12T00:39:46.870978Z",
     "iopub.status.idle": "2022-11-12T00:39:47.993553Z",
     "shell.execute_reply": "2022-11-12T00:39:47.992831Z",
     "shell.execute_reply.started": "2022-11-12T00:39:46.871829Z"
    },
    "tags": []
   },
   "outputs": [],
   "source": [
    "#----------------\n",
    "# Translação em X\n",
    "#----------------\n",
    "tor_files = []\n",
    "for param in displacement:\n",
    "    tor_file = grasp.make_tor(object=\"secondary\", X0=param, verbose=False, prefix=\"_central_\")\n",
    "    tor_files.append(tor_file)\n",
    "#Roda o grasp em background para cada tor file.\n",
    "#Aguarde o final da execução do GRASP antes de prosseguir.\n",
    "time.sleep(1)\n",
    "for tor_file in tor_files:\n",
    "    job = grasp.run_grasp(tor_file)\n",
    "    job.pid"
   ]
  },
  {
   "cell_type": "code",
   "execution_count": null,
   "id": "502cc574-0e13-49b6-9543-17b7ca0e164e",
   "metadata": {
    "execution": {
     "iopub.execute_input": "2022-11-11T23:45:32.457758Z",
     "iopub.status.busy": "2022-11-11T23:45:32.457336Z",
     "iopub.status.idle": "2022-11-11T23:55:32.561110Z",
     "shell.execute_reply": "2022-11-11T23:55:32.560360Z",
     "shell.execute_reply.started": "2022-11-11T23:45:32.457726Z"
    }
   },
   "outputs": [],
   "source": [
    "time.sleep(10*60)"
   ]
  },
  {
   "cell_type": "code",
   "execution_count": null,
   "id": "80849cd5",
   "metadata": {
    "execution": {
     "iopub.execute_input": "2022-11-11T23:55:32.563984Z",
     "iopub.status.busy": "2022-11-11T23:55:32.563635Z",
     "iopub.status.idle": "2022-11-11T23:55:33.636392Z",
     "shell.execute_reply": "2022-11-11T23:55:33.635445Z",
     "shell.execute_reply.started": "2022-11-11T23:55:32.563956Z"
    },
    "tags": []
   },
   "outputs": [],
   "source": [
    "#----------------\n",
    "# Translação em Y\n",
    "#----------------\n",
    "tor_files = []\n",
    "for param in displacement:\n",
    "    tor_file = grasp.make_tor(object=\"secondary\", Y0=param, verbose=False, prefix=\"_central_\")\n",
    "    tor_files.append(tor_file)\n",
    "# Roda o grasp em background para cada tor file.\n",
    "# Aguarde o final da execução do GRASP antes de prosseguir.\n",
    "time.sleep(1)\n",
    "for tor_file in tor_files:\n",
    "    job = grasp.run_grasp(tor_file)\n",
    "    job.pid"
   ]
  },
  {
   "cell_type": "code",
   "execution_count": null,
   "id": "176bdf3d",
   "metadata": {
    "execution": {
     "iopub.execute_input": "2022-11-11T23:55:33.638185Z",
     "iopub.status.busy": "2022-11-11T23:55:33.637806Z",
     "iopub.status.idle": "2022-11-11T23:55:34.772105Z",
     "shell.execute_reply": "2022-11-11T23:55:34.771011Z",
     "shell.execute_reply.started": "2022-11-11T23:55:33.638155Z"
    }
   },
   "outputs": [],
   "source": [
    "#----------------\n",
    "# Translação em Z\n",
    "#----------------\n",
    "tor_files = []\n",
    "for param in displacement:\n",
    "    tor_file = grasp.make_tor(object=\"secondary\", Z0=param, verbose=False, prefix=\"_central_\")\n",
    "    tor_files.append(tor_file)\n",
    "# Roda o grasp em background para cada tor file.\n",
    "# Aguarde o final da execução do GRASP antes de prosseguir.\n",
    "time.sleep(1)\n",
    "for tor_file in tor_files:\n",
    "    job = grasp.run_grasp(tor_file)\n",
    "    job.pid"
   ]
  },
  {
   "cell_type": "markdown",
   "id": "62d32777",
   "metadata": {},
   "source": [
    "## Dois parâmetros"
   ]
  },
  {
   "cell_type": "code",
   "execution_count": null,
   "id": "b9249e7f-25dc-4bfd-abe6-e805bed45d66",
   "metadata": {
    "execution": {
     "iopub.execute_input": "2022-11-12T02:10:45.723253Z",
     "iopub.status.busy": "2022-11-12T02:10:45.722315Z",
     "iopub.status.idle": "2022-11-12T02:10:45.728426Z",
     "shell.execute_reply": "2022-11-12T02:10:45.727934Z",
     "shell.execute_reply.started": "2022-11-12T02:10:45.723169Z"
    }
   },
   "outputs": [],
   "source": [
    "# def make_tor_mcmc(*thetas):\n",
    "#     dirname = \"../grasp/STANDARD/tmp_mcmc/\"\n",
    "#     # cria pasta\n",
    "#     if not os.path.isdir(dirname):\n",
    "#         os.mkdir(dirname)\n",
    "#     filename = dirname + str(np.random.randint(10000000)) + \".tor\"\n",
    "#     feed_string1 = grasp.move_feed(y=thetas[0])\n",
    "#     # grava arquivo tor\n",
    "#     grasp._make_tor(filename, feed_string1, \"../grasp/STANDARD/BINGO_CUT_fast.tor\", 15, 7)\n",
    "#     sec_string = grasp.translate_secondary(y=thetas[1])\n",
    "#     grasp._make_tor(filename, sec_string, filename, 7, 0)\n",
    "#     return filename"
   ]
  },
  {
   "cell_type": "code",
   "execution_count": null,
   "id": "cf473174-96bd-48dd-9aad-ffa662b8a87f",
   "metadata": {
    "execution": {
     "iopub.execute_input": "2022-11-12T03:14:11.061290Z",
     "iopub.status.busy": "2022-11-12T03:14:11.060379Z",
     "iopub.status.idle": "2022-11-12T14:14:10.925588Z",
     "shell.execute_reply": "2022-11-12T14:14:10.922986Z",
     "shell.execute_reply.started": "2022-11-12T03:14:11.061208Z"
    },
    "tags": []
   },
   "outputs": [],
   "source": [
    "# params = np.round(np.linspace(-.5, .5, 11), 1)\n",
    "# files = []\n",
    "# fys = []\n",
    "# sys = []\n",
    "# gains = []\n",
    "# for ii, fy in enumerate(params):\n",
    "#     for jj, sy in enumerate(params):\n",
    "#         tor_file = make_tor_mcmc(fy, sy)\n",
    "#         _ = grasp.run_grasp(tor_file, daemon=False)\n",
    "#         cut_file = \"../\" + tor_file.split(\".\")[-2] + \".cut\"\n",
    "#         df = grasp.read_cut(cut_file)\n",
    "#         gain = grasp.gain_dB(df)\n",
    "#         files.append(cut_file)\n",
    "#         fys.append(fy)\n",
    "#         sys.append(sy)\n",
    "#         gains.append(gain)\n",
    "# result = pd.DataFrame({\"cut_files\": files, \"fy\": fys, \"sy\": sys, \"Gain\": gains})"
   ]
  }
 ],
 "metadata": {
  "hide_input": false,
  "kernelspec": {
   "display_name": "GNURADIO3.10",
   "language": "python",
   "name": "gnuradio3.10"
  },
  "language_info": {
   "codemirror_mode": {
    "name": "ipython",
    "version": 3
   },
   "file_extension": ".py",
   "mimetype": "text/x-python",
   "name": "python",
   "nbconvert_exporter": "python",
   "pygments_lexer": "ipython3",
   "version": "3.10.6"
  },
  "latex_envs": {
   "LaTeX_envs_menu_present": true,
   "autoclose": true,
   "autocomplete": false,
   "bibliofile": "biblio.bib",
   "cite_by": "apalike",
   "current_citInitial": 1,
   "eqLabelWithNumbers": true,
   "eqNumInitial": 1,
   "hotkeys": {
    "equation": "Ctrl-E",
    "itemize": "Ctrl-I"
   },
   "labels_anchors": false,
   "latex_user_defs": false,
   "report_style_numbering": true,
   "user_envs_cfg": false
  },
  "toc": {
   "base_numbering": 1,
   "nav_menu": {},
   "number_sections": false,
   "sideBar": true,
   "skip_h1_title": true,
   "title_cell": "Table of Contents",
   "title_sidebar": "Contents",
   "toc_cell": false,
   "toc_position": {},
   "toc_section_display": true,
   "toc_window_display": false
  }
 },
 "nbformat": 4,
 "nbformat_minor": 5
}
