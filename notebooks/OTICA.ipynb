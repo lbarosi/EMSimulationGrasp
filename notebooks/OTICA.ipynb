{
 "cells": [
  {
   "cell_type": "code",
   "execution_count": 1,
   "id": "825b0d3c",
   "metadata": {
    "ExecuteTime": {
     "end_time": "2022-11-12T13:30:55.623928Z",
     "start_time": "2022-11-12T13:30:52.196652Z"
    }
   },
   "outputs": [],
   "source": [
    "import matplotlib.pyplot as plt\n",
    "import numpy as np\n",
    "from IPython.core.interactiveshell import InteractiveShell\n",
    "from IPython.display import display\n",
    "InteractiveShell.ast_node_interactivity = \"all\""
   ]
  },
  {
   "cell_type": "code",
   "execution_count": 14,
   "id": "5d8f8e88",
   "metadata": {
    "ExecuteTime": {
     "end_time": "2022-11-12T13:57:38.067737Z",
     "start_time": "2022-11-12T13:57:38.057019Z"
    }
   },
   "outputs": [],
   "source": [
    "def parabola(xx, foco=140):\n",
    "    zz = (xx ** 2)/(8 * foco/2)\n",
    "    xx_ = 0.990365 * (226.541 + xx) - 0.138482 * (-91.6447 + zz)\n",
    "    zz_ = 0. + 0.138482 * (226.541 + xx) + 0.990365 * (-91.6447 + zz)\n",
    "    return xx, zz\n",
    "\n",
    "def hiperbola(xx, vertice=-148.2353, foco=252):\n",
    "    aa = vertice/2\n",
    "    cc = foco/2\n",
    "    zz = cc - (aa / np.sqrt(cc ** 2 - aa ** 2)) * np.sqrt(cc ** 2 - aa ** 2 + xx ** 2)\n",
    "    xx_ = 0.990365 * (226.541 + (0.0871558 * xx - 0.996195 * zz)) - 0.138482 * (-91.6447 + \n",
    "         (140. - 0.996195 * xx - 0.0871558 * zz))\n",
    "    zz_ = 0.138482 * (226.541 + (0.0871558 * xx - 0.996195 * zz)) + 0.990365 * (-91.6447 + \n",
    "         (140. - 0.996195 * xx - 0.0871558 * zz))\n",
    "    return xx_, zz_\n",
    "\n",
    "def cilindro_p(x0, aa):\n",
    "    xx = \n",
    "    return x0 - aa, x0 + aa\n",
    "    "
   ]
  },
  {
   "cell_type": "code",
   "execution_count": 19,
   "id": "baa5ca27",
   "metadata": {
    "ExecuteTime": {
     "end_time": "2022-11-12T13:58:48.725065Z",
     "start_time": "2022-11-12T13:58:48.531145Z"
    }
   },
   "outputs": [
    {
     "data": {
      "text/plain": [
       "[<matplotlib.lines.Line2D at 0x7fad692514e0>]"
      ]
     },
     "execution_count": 19,
     "metadata": {},
     "output_type": "execute_result"
    },
    {
     "data": {
      "text/plain": [
       "[<matplotlib.lines.Line2D at 0x7fad69251810>]"
      ]
     },
     "execution_count": 19,
     "metadata": {},
     "output_type": "execute_result"
    },
    {
     "data": {
      "image/png": "[encoded data removed]",
      "text/plain": [
       "<Figure size 640x480 with 1 Axes>"
      ]
     },
     "metadata": {},
     "output_type": "display_data"
    }
   ],
   "source": [
    "xx = np.linspace(0, 100, 300)\n",
    "xx_p, zz_p = parabola(xx)\n",
    "xx_s, zz_s = hiperbola(xx)\n",
    "plt.plot(xx_p, zz_p)\n",
    "plt.plot(xx_s, zz_s)"
   ]
  },
  {
   "cell_type": "code",
   "execution_count": 20,
   "id": "41000482",
   "metadata": {
    "ExecuteTime": {
     "end_time": "2022-11-12T13:59:32.808679Z",
     "start_time": "2022-11-12T13:59:32.800965Z"
    }
   },
   "outputs": [
    {
     "data": {
      "text/plain": [
       "726"
      ]
     },
     "execution_count": 20,
     "metadata": {},
     "output_type": "execute_result"
    }
   ],
   "source": [
    "121*6"
   ]
  },
  {
   "cell_type": "code",
   "execution_count": null,
   "id": "da0ff493",
   "metadata": {},
   "outputs": [],
   "source": []
  }
 ],
 "metadata": {
  "hide_input": false,
  "kernelspec": {
   "display_name": "GNURADIO3.10",
   "language": "python",
   "name": "gnuradio3.10"
  },
  "language_info": {
   "codemirror_mode": {
    "name": "ipython",
    "version": 3
   },
   "file_extension": ".py",
   "mimetype": "text/x-python",
   "name": "python",
   "nbconvert_exporter": "python",
   "pygments_lexer": "ipython3",
   "version": "3.10.6"
  },
  "toc": {
   "base_numbering": 1,
   "nav_menu": {},
   "number_sections": false,
   "sideBar": true,
   "skip_h1_title": true,
   "title_cell": "Table of Contents",
   "title_sidebar": "Contents",
   "toc_cell": false,
   "toc_position": {},
   "toc_section_display": true,
   "toc_window_display": false
  }
 },
 "nbformat": 4,
 "nbformat_minor": 5
}
