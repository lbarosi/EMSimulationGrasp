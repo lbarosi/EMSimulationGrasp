{
 "cells": [
  {
   "cell_type": "markdown",
   "id": "worth-cassette",
   "metadata": {},
   "source": [
    "# Electromanetic Simulations for Aberrations in BINGO telescope"
   ]
  },
  {
   "cell_type": "markdown",
   "id": "opening-newman",
   "metadata": {},
   "source": [
    "## Introdução"
   ]
  },
  {
   "cell_type": "markdown",
   "id": "interstate-industry",
   "metadata": {},
   "source": [
    "BINGO é um telescópio cross-dragone no ual o espelho primário é obtido pela intersecção de um parabolóide com um cilindro fora do eixo e o secundário é obtido como a intersecção de um hiperbolóide e um cilindro fora do eixo. O plano focal do BINGO é populado com 28 cornetas colocadas de forma a otimizar o ganho do radiotelescópio.\n",
    "\n",
    "Esta geometria é implantada do GRASP \\cite{2021arXiv210701634W, 2021arXiv210701635A}.\n",
    "\n",
    "![GRASP](./GRASP_01.png)"
   ]
  },
  {
   "cell_type": "markdown",
   "id": "modular-daughter",
   "metadata": {},
   "source": [
    "O software TICRA GRASP permite realizar simulações eletromagnéticas do conjunto ótico. Em particular podemos obter o padrão de radiação normalizado. Variações nos parâmetros geométricos acarretam efeitos na eficiência do radiotelescópio e podemos analisar o quão robusta é a ótica perante variações de parâmetros geométricos sensíveis.\n",
    "\n",
    "O objetivo do trabalho é a determinação de intervalos de tolerância para a construção do radiotelescópio, para isto definindo as variações geométricas que vão ser levadas em consideração bem como as métricas utilizadas para o estabelecimento dos intervalos \\cite{2020RAA2069G}.\n",
    "\n",
    "As informações da geometria são guardadas em um arquivo tipo texto, na forma de dicionários como o abaixo:\n",
    "\n",
    "```\n",
    "dual_feed_coor  coor_sys  \n",
    "(\n",
    "  origin           : struct(x: 0.0 m, y: 0.0 m, z: 252.0 m),\n",
    "  x_axis           : struct(x: 0.89315373386595, y: 0.0, z: 0.449751495474237),\n",
    "  y_axis           : struct(x: 0.0, y: -1.0, z: 0.0),\n",
    "  base             : ref(dual_sub_coor)\n",
    ")\n",
    "```\n",
    "\n",
    "![GRASP](./GRASP_02.png)"
   ]
  },
  {
   "cell_type": "markdown",
   "id": "convinced-flour",
   "metadata": {},
   "source": [
    "## Metodologia"
   ]
  },
  {
   "cell_type": "markdown",
   "id": "going-privilege",
   "metadata": {},
   "source": [
    "### Fase 1\n",
    "Com o GRASP student version e com apenas 1 corneta central:\n",
    "\n",
    "1. Determinação de parâmetros geométricos relevantes para primeira análise \\cite{bookBaars}. Possivelmente dois parâmetros para a movimentação das cornetas e dois ou três parâmetros para os espelhos.\n",
    "2. Determinação de como implementar as geometrias mudando os parâmetros disponíveis no GRASP.\n",
    "2. Determinação da métrica a ser utilizada \\cite{bookBaars, sorensen2010analysis, pontoppidanelectromagnetic}\n",
    "3. Construção de função para criar um arquivo `.tor` programaticamente variando parâmetros definidos, salvando em pasta com nome padronizado.\n",
    "4. Construir função para executar GRASP, produzindo arquivo `dual_cut.cut` colocando-o no diretório correto. (O nome do arquivo do Grasp é sempre o mesmo). Este arquivo contém as informações do padrão do feixe.\n",
    "5. Construir função para ingerir dados do arquivo `.cut` e calcular métrica de interesse.\n",
    "6. Varrer o espaço de parâmetros para cada variável independentemente e analisar quais parâmetros tem mais relevância para a qualidade do feixe, selecionando no máximo três deles para uma análise conjunta.\n",
    "7. Estabelecer se a métrica utilizada é bem comportada o suficiente para prosseguir uma análise de otimização bayesiana.\n",
    "8. Implementar monte-carlo (ou mesmo varrer o espaço de parâmetros inteiro) construindo a distribuição de probabilidade conjunta para todos os parâmetros em um gráfico de triângulo.\n",
    "9. Analisar a estatística obtida, se há ou não correlações significativas e a robustez.\n",
    "10. Construir um padrão de radiação normalizado com um intervalo de confiança associado a ele.\n",
    "\n",
    "### Fase 2\n",
    "Com o GRASP estudante e analisando o efeito de alterar a posição da corneta colocando a corneta nas posições extremas no arranjo de 28 cornetas.\n",
    "\n",
    "### Fase 3\n",
    "Com o GRASP profissional, utilizando o modelo realista para os espelhos (que considera o ladrilhamento), analisar a análise que parecer mais sensata após as outras duas fases."
   ]
  },
  {
   "cell_type": "markdown",
   "id": "explicit-courage",
   "metadata": {},
   "source": [
    "### Perguntas Adicionais\n",
    "\n",
    "1. É relevante construir uma métrica para polarização?\n",
    "2. É relevante considerar polarização circular?\n",
    "\n",
    "..."
   ]
  },
  {
   "cell_type": "markdown",
   "id": "devoted-trail",
   "metadata": {},
   "source": [
    "# References\n",
    "\n",
    "[<a id=\"cit-2021arXiv210701634W\" href=\"#call-2021arXiv210701634W\">1</a>] {Wuensche} Carlos A., {Villela} Thyrso, {Abdalla} Elcio <em>et al.</em>, ``_The BINGO Project II: Instrument Description_'', arXiv e-prints, vol. , number , pp. arXiv:2107.01634, July 2021.\n",
    "\n",
    "[<a id=\"cit-2021arXiv210701635A\" href=\"#call-2021arXiv210701635A\">2</a>] {Abdalla} Filipe B., {Marins} Alessandro, {Motta} Pablo <em>et al.</em>, ``_The BINGO Project III: Optical design and optimisation of the focal plane_'', arXiv e-prints, vol. , number , pp. arXiv:2107.01635, July 2021.\n",
    "\n",
    "[<a id=\"cit-2020RAA2069G\" href=\"#call-2020RAA2069G\">3</a>] {Gan} Heng-Qian, {Jiang} Peng, {Zhu} Kai <em>et al.</em>, ``_Simulation of FAST EM performance for both the axial and lateral feed defocusing_'', Research in Astronomy and Astrophysics, vol. 20, number 5, pp. 069, May 2020.\n",
    "\n",
    "[<a id=\"cit-bookBaars\" href=\"#call-bookBaars\">4</a>] Jacob Baars, ``_The Paraboloidal Reflector Antenna in Radio Astronomy and Communication: Theory and Practice_'', 01 2007.\n",
    "\n",
    "[<a id=\"cit-sorensen2010analysis\" href=\"#call-sorensen2010analysis\">5</a>] S. S{\\o}rensen and K. Pontoppidan, ``_Analysis of the ALMA telescope and front-ends_'', Proc. Int. Symp. Space THz Technol.,  2010.\n",
    "\n",
    "[<a id=\"cit-pontoppidanelectromagnetic\" href=\"#call-pontoppidanelectromagnetic\">6</a>] Pontoppidan Knud, ``_Electromagnetic properties and optical analysis of the ALMA antennas and Front Ends Work was performed under_'', , vol. , number , pp. ,  .\n",
    "\n"
   ]
  }
 ],
 "metadata": {
  "hide_input": false,
  "kernelspec": {
   "display_name": "mestrado",
   "language": "python",
   "name": "mestrado"
  },
  "language_info": {
   "codemirror_mode": {
    "name": "ipython",
    "version": 3
   },
   "file_extension": ".py",
   "mimetype": "text/x-python",
   "name": "python",
   "nbconvert_exporter": "python",
   "pygments_lexer": "ipython3",
   "version": "3.10.4"
  },
  "latex_envs": {
   "LaTeX_envs_menu_present": true,
   "autoclose": true,
   "autocomplete": false,
   "bibliofile": "ref.bib",
   "cite_by": "number",
   "current_citInitial": 1,
   "eqLabelWithNumbers": true,
   "eqNumInitial": 1,
   "hotkeys": {
    "equation": "Ctrl-E",
    "itemize": "Ctrl-I"
   },
   "labels_anchors": false,
   "latex_user_defs": false,
   "report_style_numbering": true,
   "user_envs_cfg": false
  },
  "toc": {
   "base_numbering": 1,
   "nav_menu": {},
   "number_sections": false,
   "sideBar": true,
   "skip_h1_title": true,
   "title_cell": "Table of Contents",
   "title_sidebar": "Contents",
   "toc_cell": false,
   "toc_position": {},
   "toc_section_display": true,
   "toc_window_display": false
  }
 },
 "nbformat": 4,
 "nbformat_minor": 5
}
