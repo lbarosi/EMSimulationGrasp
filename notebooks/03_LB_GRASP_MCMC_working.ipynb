{
 "cells": [
  {
   "cell_type": "markdown",
   "id": "voluntary-turning",
   "metadata": {},
   "source": [
    "# Análise do GRASP MCMC"
   ]
  },
  {
   "cell_type": "markdown",
   "id": "e7d59b4f",
   "metadata": {},
   "source": [
    "Para rodar é necessário estar em uma máquina em que o GRASP roda rápido (poucos segundos). Deve-se customizar o caminho do executável em `./src/grasp.py` e, no caso do GRASP profissional, é necessário utilizar um arquivo TCI compatível (`../grasp/STANDARD/TICRA_TOOLS/BINGO_TICRA_TOOLS.tci`) na chamada da função `run_grasp`."
   ]
  },
  {
   "cell_type": "markdown",
   "id": "provincial-penny",
   "metadata": {},
   "source": [
    "## Inicialização"
   ]
  },
  {
   "cell_type": "code",
   "execution_count": 1,
   "id": "eleven-binding",
   "metadata": {
    "ExecuteTime": {
     "end_time": "2022-11-15T11:12:43.830637Z",
     "start_time": "2022-11-15T11:12:42.737692Z"
    }
   },
   "outputs": [],
   "source": [
    "import os\n",
    "import sys\n",
    "import glob\n",
    "from IPython.core.interactiveshell import InteractiveShell\n",
    "from IPython.display import display\n",
    "#-----\n",
    "import time\n",
    "import subprocess\n",
    "import emcee\n",
    "from getdist import plots as gdplt\n",
    "from getdist import MCSamples\n",
    "import matplotlib.pyplot as plt\n",
    "import numpy as np\n",
    "import pandas as pd\n",
    "sys.path.append(os.path.abspath(os.path.join(os.path.split(os.getcwd())[0], \"src\")))\n",
    "import grasp\n",
    "#-----\n",
    "%matplotlib inline\n",
    "plt.rcParams[\"figure.figsize\"] = (16, 6)\n",
    "InteractiveShell.ast_node_interactivity = \"all\""
   ]
  },
  {
   "cell_type": "markdown",
   "id": "a9638574",
   "metadata": {},
   "source": [
    "## Emcee Analysis"
   ]
  },
  {
   "cell_type": "code",
   "execution_count": 4,
   "id": "edee5a01",
   "metadata": {
    "ExecuteTime": {
     "end_time": "2022-11-15T11:12:59.201533Z",
     "start_time": "2022-11-15T11:12:59.196092Z"
    }
   },
   "outputs": [],
   "source": [
    "# Gera arquivo tor para translação em x do feed e do seundário.\n",
    "def make_tor_mcmc(*thetas):\n",
    "    dirname = \"../grasp/STANDARD/tmp_mcmc/\"\n",
    "    # cria pasta\n",
    "    if not os.path.isdir(dirname):\n",
    "        os.mkdir(dirname)\n",
    "    filename = dirname + str(np.random.randint(10000000)) + \".tor\"\n",
    "    feed_string1 = grasp.move_feed(x=thetas[0])\n",
    "    # grava arquivo tor\n",
    "    grasp._make_tor(filename, feed_string1, \"../grasp/STANDARD/BINGO_CUT_fast.tor\", 15, 7)\n",
    "    sec_string = grasp.translate_secondary(x=thetas[1])\n",
    "    grasp._make_tor(filename, sec_string, filename, 7, 0)\n",
    "    return filename"
   ]
  },
  {
   "cell_type": "code",
   "execution_count": 5,
   "id": "1248c6ec",
   "metadata": {
    "ExecuteTime": {
     "end_time": "2022-11-15T11:12:59.755158Z",
     "start_time": "2022-11-15T11:12:59.639528Z"
    }
   },
   "outputs": [],
   "source": [
    "# COnfiguração fiducial\n",
    "df00 = grasp.read_cut(\"../grasp/STANDARD/tmp_mcmc/cut00.cut\")\n",
    "best_params = [0, 0]\n",
    "\n",
    "def residual(df):\n",
    "    FWHM = grasp.get_FWHM(df)\n",
    "    gain_max = grasp.gain_max(df, FWHM)\n",
    "    FWHM_0 = grasp.get_FWHM(df00)\n",
    "    gain_0 = grasp.gain_max(df00, FWHM)\n",
    "    result = - np.abs(gain_max - gain_0)/gain_0\n",
    "    return result\n",
    "    \n",
    "    \n",
    "def log_prior(thetas):\n",
    "    if (thetas[0] < 0.1) and (thetas[0] > -0.1):\n",
    "        result = 0\n",
    "    else:\n",
    "        result = -np.inf\n",
    "    return result\n",
    "\n",
    "\n",
    "def log_likelyhood(thetas):\n",
    "    tor_file = make_tor_mcmc(*thetas)\n",
    "    _ = grasp.run_grasp(tor_file, \n",
    "                    gpxfile=\"../grasp/STANDARD/batch.gxp\", \n",
    "                    tcifile=\"../grasp/STANDARD/BINGO_SIMPLES.tci\", \n",
    "                    daemon=False)\n",
    "    cut_file = \"..\" + tor_file.split(\".\")[-2] + \".cut\"\n",
    "    df = grasp.read_cut(cut_file)\n",
    "    result = - residual(df)\n",
    "    return result\n",
    "\n",
    "\n",
    "def log_posterior(thetas):\n",
    "    result = log_prior(thetas) + log_likelyhood(thetas)\n",
    "    return result"
   ]
  },
  {
   "cell_type": "code",
   "execution_count": 6,
   "id": "b96449fd",
   "metadata": {
    "ExecuteTime": {
     "end_time": "2022-11-15T11:13:01.137417Z",
     "start_time": "2022-11-15T11:13:01.129248Z"
    }
   },
   "outputs": [],
   "source": [
    "ndim = len(best_params)\n",
    "nburn = 1\n",
    "nwalkers = 3\n",
    "nsteps = 20\n",
    "starting_guesses = np.random.normal(loc=0, scale=0.1, size=(nwalkers, ndim) )"
   ]
  },
  {
   "cell_type": "code",
   "execution_count": 12,
   "id": "764a6e47",
   "metadata": {
    "ExecuteTime": {
     "end_time": "2022-11-15T11:15:20.314039Z",
     "start_time": "2022-11-15T11:15:20.278012Z"
    }
   },
   "outputs": [],
   "source": [
    "filename = \"../grasp/STANDARD/tmp_mcmc/grasp_chains.h5\"\n",
    "backend = emcee.backends.HDFBackend(filename)\n",
    "backend.reset(nwalkers, ndim)\n",
    "\n",
    "sampler = emcee.EnsembleSampler(nwalkers, ndim, log_posterior, backend=backend)\n",
    "#sampler.run_mcmc(starting_guesses, nsteps, progress=True);"
   ]
  },
  {
   "cell_type": "code",
   "execution_count": 13,
   "id": "81f5705b",
   "metadata": {
    "ExecuteTime": {
     "end_time": "2022-11-15T11:15:21.263874Z",
     "start_time": "2022-11-15T11:15:21.173989Z"
    }
   },
   "outputs": [
    {
     "ename": "AttributeError",
     "evalue": "You must run the sampler with 'store == True' before accessing the results",
     "output_type": "error",
     "traceback": [
      "\u001b[0;31m---------------------------------------------------------------------------\u001b[0m",
      "\u001b[0;31mAttributeError\u001b[0m                            Traceback (most recent call last)",
      "Cell \u001b[0;32mIn [13], line 2\u001b[0m\n\u001b[1;32m      1\u001b[0m reader \u001b[38;5;241m=\u001b[39m emcee\u001b[38;5;241m.\u001b[39mbackends\u001b[38;5;241m.\u001b[39mHDFBackend(filename)\n\u001b[0;32m----> 2\u001b[0m samples \u001b[38;5;241m=\u001b[39m \u001b[43mreader\u001b[49m\u001b[38;5;241;43m.\u001b[39;49m\u001b[43mget_chain\u001b[49m\u001b[43m(\u001b[49m\u001b[43mflat\u001b[49m\u001b[38;5;241;43m=\u001b[39;49m\u001b[38;5;28;43;01mTrue\u001b[39;49;00m\u001b[43m)\u001b[49m\n\u001b[1;32m      3\u001b[0m samples \u001b[38;5;241m=\u001b[39m MCSamples(samples\u001b[38;5;241m=\u001b[39msamples,names \u001b[38;5;241m=\u001b[39m [\u001b[38;5;124m\"\u001b[39m\u001b[38;5;124ma\u001b[39m\u001b[38;5;124m\"\u001b[39m, \u001b[38;5;124m\"\u001b[39m\u001b[38;5;124mb\u001b[39m\u001b[38;5;124m\"\u001b[39m], labels \u001b[38;5;241m=\u001b[39m [\u001b[38;5;124m\"\u001b[39m\u001b[38;5;124ma\u001b[39m\u001b[38;5;124m\"\u001b[39m, \u001b[38;5;124m\"\u001b[39m\u001b[38;5;124mb\u001b[39m\u001b[38;5;124m\"\u001b[39m])\n\u001b[1;32m      5\u001b[0m g \u001b[38;5;241m=\u001b[39m gdplt\u001b[38;5;241m.\u001b[39mget_subplot_plotter()\n",
      "File \u001b[0;32m/opt/miniconda3/envs/pibic/lib/python3.9/site-packages/emcee/backends/backend.py:75\u001b[0m, in \u001b[0;36mBackend.get_chain\u001b[0;34m(self, **kwargs)\u001b[0m\n\u001b[1;32m     60\u001b[0m \u001b[38;5;28;01mdef\u001b[39;00m \u001b[38;5;21mget_chain\u001b[39m(\u001b[38;5;28mself\u001b[39m, \u001b[38;5;241m*\u001b[39m\u001b[38;5;241m*\u001b[39mkwargs):\n\u001b[1;32m     61\u001b[0m     \u001b[38;5;124;03m\"\"\"Get the stored chain of MCMC samples\u001b[39;00m\n\u001b[1;32m     62\u001b[0m \n\u001b[1;32m     63\u001b[0m \u001b[38;5;124;03m    Args:\u001b[39;00m\n\u001b[0;32m   (...)\u001b[0m\n\u001b[1;32m     73\u001b[0m \n\u001b[1;32m     74\u001b[0m \u001b[38;5;124;03m    \"\"\"\u001b[39;00m\n\u001b[0;32m---> 75\u001b[0m     \u001b[38;5;28;01mreturn\u001b[39;00m \u001b[38;5;28;43mself\u001b[39;49m\u001b[38;5;241;43m.\u001b[39;49m\u001b[43mget_value\u001b[49m\u001b[43m(\u001b[49m\u001b[38;5;124;43m\"\u001b[39;49m\u001b[38;5;124;43mchain\u001b[39;49m\u001b[38;5;124;43m\"\u001b[39;49m\u001b[43m,\u001b[49m\u001b[43m \u001b[49m\u001b[38;5;241;43m*\u001b[39;49m\u001b[38;5;241;43m*\u001b[39;49m\u001b[43mkwargs\u001b[49m\u001b[43m)\u001b[49m\n",
      "File \u001b[0;32m/opt/miniconda3/envs/pibic/lib/python3.9/site-packages/emcee/backends/hdf.py:161\u001b[0m, in \u001b[0;36mHDFBackend.get_value\u001b[0;34m(self, name, flat, thin, discard)\u001b[0m\n\u001b[1;32m    159\u001b[0m iteration \u001b[38;5;241m=\u001b[39m g\u001b[38;5;241m.\u001b[39mattrs[\u001b[38;5;124m\"\u001b[39m\u001b[38;5;124miteration\u001b[39m\u001b[38;5;124m\"\u001b[39m]\n\u001b[1;32m    160\u001b[0m \u001b[38;5;28;01mif\u001b[39;00m iteration \u001b[38;5;241m<\u001b[39m\u001b[38;5;241m=\u001b[39m \u001b[38;5;241m0\u001b[39m:\n\u001b[0;32m--> 161\u001b[0m     \u001b[38;5;28;01mraise\u001b[39;00m \u001b[38;5;167;01mAttributeError\u001b[39;00m(\n\u001b[1;32m    162\u001b[0m         \u001b[38;5;124m\"\u001b[39m\u001b[38;5;124mYou must run the sampler with \u001b[39m\u001b[38;5;124m\"\u001b[39m\n\u001b[1;32m    163\u001b[0m         \u001b[38;5;124m\"\u001b[39m\u001b[38;5;124m'\u001b[39m\u001b[38;5;124mstore == True\u001b[39m\u001b[38;5;124m'\u001b[39m\u001b[38;5;124m before accessing the \u001b[39m\u001b[38;5;124m\"\u001b[39m\n\u001b[1;32m    164\u001b[0m         \u001b[38;5;124m\"\u001b[39m\u001b[38;5;124mresults\u001b[39m\u001b[38;5;124m\"\u001b[39m\n\u001b[1;32m    165\u001b[0m     )\n\u001b[1;32m    167\u001b[0m \u001b[38;5;28;01mif\u001b[39;00m name \u001b[38;5;241m==\u001b[39m \u001b[38;5;124m\"\u001b[39m\u001b[38;5;124mblobs\u001b[39m\u001b[38;5;124m\"\u001b[39m \u001b[38;5;129;01mand\u001b[39;00m \u001b[38;5;129;01mnot\u001b[39;00m g\u001b[38;5;241m.\u001b[39mattrs[\u001b[38;5;124m\"\u001b[39m\u001b[38;5;124mhas_blobs\u001b[39m\u001b[38;5;124m\"\u001b[39m]:\n\u001b[1;32m    168\u001b[0m     \u001b[38;5;28;01mreturn\u001b[39;00m \u001b[38;5;28;01mNone\u001b[39;00m\n",
      "\u001b[0;31mAttributeError\u001b[0m: You must run the sampler with 'store == True' before accessing the results"
     ]
    }
   ],
   "source": [
    "reader = emcee.backends.HDFBackend(filename)\n",
    "samples = reader.get_chain(flat=True)\n",
    "samples = MCSamples(samples=samples,names = [\"a\", \"b\"], labels = [\"a\", \"b\"])\n",
    "\n",
    "g = gdplt.get_subplot_plotter()\n",
    "g.settings.figure_legend_frame = False\n",
    "g.settings.alpha_filled_add=0.4\n",
    "g.settings.title_limit_fontsize = 14\n",
    "g.triangle_plot(samples, ['a', 'b'], \n",
    "    filled=True, \n",
    "    legend_loc='upper right', \n",
    "    title_limit=3\n",
    "               )\n",
    "plt.show();"
   ]
  },
  {
   "cell_type": "code",
   "execution_count": null,
   "id": "d7e10b64",
   "metadata": {},
   "outputs": [],
   "source": []
  },
  {
   "cell_type": "code",
   "execution_count": null,
   "id": "8f815002",
   "metadata": {},
   "outputs": [],
   "source": []
  }
 ],
 "metadata": {
  "hide_input": false,
  "kernelspec": {
   "display_name": "PIBIC",
   "language": "python",
   "name": "pibic"
  },
  "language_info": {
   "codemirror_mode": {
    "name": "ipython",
    "version": 3
   },
   "file_extension": ".py",
   "mimetype": "text/x-python",
   "name": "python",
   "nbconvert_exporter": "python",
   "pygments_lexer": "ipython3",
   "version": "3.9.13"
  },
  "latex_envs": {
   "LaTeX_envs_menu_present": true,
   "autoclose": true,
   "autocomplete": false,
   "bibliofile": "biblio.bib",
   "cite_by": "apalike",
   "current_citInitial": 1,
   "eqLabelWithNumbers": true,
   "eqNumInitial": 1,
   "hotkeys": {
    "equation": "Ctrl-E",
    "itemize": "Ctrl-I"
   },
   "labels_anchors": false,
   "latex_user_defs": false,
   "report_style_numbering": true,
   "user_envs_cfg": false
  },
  "toc": {
   "base_numbering": 1,
   "nav_menu": {},
   "number_sections": false,
   "sideBar": true,
   "skip_h1_title": true,
   "title_cell": "Table of Contents",
   "title_sidebar": "Contents",
   "toc_cell": false,
   "toc_position": {},
   "toc_section_display": true,
   "toc_window_display": false
  }
 },
 "nbformat": 4,
 "nbformat_minor": 5
}
