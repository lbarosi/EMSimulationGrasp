{
 "cells": [
  {
   "cell_type": "markdown",
   "id": "voluntary-turning",
   "metadata": {},
   "source": [
    "# Análise do GRASP"
   ]
  },
  {
   "cell_type": "markdown",
   "id": "2ec4ac08",
   "metadata": {},
   "source": [
    "$$G =10 \\log_{10}\\left[2\\pi \\left\\Vert \\int_{-\\theta_0}^{\\theta_0} E_{CO} \\cos\\theta\\;d\\theta \\right\\Vert^2\\right]$$    \n",
    "\n",
    "$$G_{max} = 10 \\log_{10} \\frac{\\Vert E\\Vert_{max}}{\\int_{-\\theta_0}^{\\theta_0} \\Vert E \\Vert^2 \\cos\\theta\\;d\\theta}$$"
   ]
  },
  {
   "cell_type": "markdown",
   "id": "provincial-penny",
   "metadata": {},
   "source": [
    "## Inicialização"
   ]
  },
  {
   "cell_type": "code",
   "execution_count": null,
   "id": "eleven-binding",
   "metadata": {
    "ExecuteTime": {
     "end_time": "2022-11-11T19:30:43.450734Z",
     "start_time": "2022-11-11T19:30:42.445738Z"
    }
   },
   "outputs": [],
   "source": [
    "import os\n",
    "import sys\n",
    "import glob\n",
    "from IPython.core.interactiveshell import InteractiveShell\n",
    "from IPython.display import display\n",
    "#-----\n",
    "import time\n",
    "import subprocess\n",
    "import matplotlib.pyplot as plt\n",
    "import numpy as np\n",
    "import pandas as pd\n",
    "sys.path.append(os.path.abspath(os.path.join(os.path.split(os.getcwd())[0], \"src\")))\n",
    "import grasp\n",
    "#-----\n",
    "%matplotlib inline\n",
    "plt.rcParams[\"figure.figsize\"] = (16, 6)\n",
    "InteractiveShell.ast_node_interactivity = \"all\""
   ]
  },
  {
   "cell_type": "markdown",
   "id": "affiliated-distribution",
   "metadata": {},
   "source": [
    "## Gerando Datasets"
   ]
  },
  {
   "cell_type": "markdown",
   "id": "745e7e6e",
   "metadata": {},
   "source": [
    "### Translações Feed"
   ]
  },
  {
   "cell_type": "code",
   "execution_count": null,
   "id": "49aec927",
   "metadata": {
    "ExecuteTime": {
     "end_time": "2022-11-11T19:30:45.919340Z",
     "start_time": "2022-11-11T19:30:45.915085Z"
    }
   },
   "outputs": [],
   "source": [
    "displacement = np.linspace(-.3, .3, 7)"
   ]
  },
  {
   "cell_type": "code",
   "execution_count": null,
   "id": "a3e12d37",
   "metadata": {
    "ExecuteTime": {
     "end_time": "2022-11-11T19:30:49.759707Z",
     "start_time": "2022-11-11T19:30:48.621234Z"
    }
   },
   "outputs": [],
   "source": [
    "#----------------\n",
    "# Translação em X\n",
    "#----------------\n",
    "tor_files = []\n",
    "for param in displacement:\n",
    "    tor_file = grasp.make_tor(object=\"feed\", X0=param, verbose=False)\n",
    "    tor_files.append(tor_file)\n",
    "# Roda o grasp em background para cada tor file.\n",
    "# Aguarde o final da execução do GRASP antes de prosseguir.\n",
    "time.sleep(1)\n",
    "for tor_file in tor_files:\n",
    "    job = grasp.run_grasp(tor_file)\n",
    "    job.pid"
   ]
  },
  {
   "cell_type": "code",
   "execution_count": null,
   "id": "dc2d4714",
   "metadata": {},
   "outputs": [],
   "source": []
  },
  {
   "cell_type": "code",
   "execution_count": null,
   "id": "f702c430",
   "metadata": {},
   "outputs": [],
   "source": []
  },
  {
   "cell_type": "code",
   "execution_count": null,
   "id": "a1678b31",
   "metadata": {
    "ExecuteTime": {
     "end_time": "2022-11-11T18:33:25.419393Z",
     "start_time": "2022-11-11T18:33:24.242621Z"
    }
   },
   "outputs": [],
   "source": [
    "#----------------\n",
    "# Translação em Y\n",
    "#----------------\n",
    "tor_files = []\n",
    "for param in displacement:\n",
    "    tor_file = grasp.make_tor(object=\"feed\", Y0=param, verbose=False)\n",
    "    tor_files.append(tor_file)\n",
    "# Roda o grasp em background para cada tor file.\n",
    "# Aguarde o final da execução do GRASP antes de prosseguir.\n",
    "time.sleep(1)\n",
    "for tor_file in tor_files:\n",
    "    job = grasp.run_grasp(tor_file)\n",
    "    job.pid"
   ]
  },
  {
   "cell_type": "code",
   "execution_count": null,
   "id": "798f8f8a",
   "metadata": {
    "ExecuteTime": {
     "end_time": "2022-11-11T18:37:18.084066Z",
     "start_time": "2022-11-11T18:37:16.921684Z"
    }
   },
   "outputs": [],
   "source": [
    "#----------------\n",
    "# Translação em Z\n",
    "#----------------\n",
    "tor_files = []\n",
    "for param in displacement:\n",
    "    tor_file = grasp.make_tor(object=\"feed\", Z0=param, verbose=False)\n",
    "    tor_files.append(tor_file)\n",
    "# Roda o grasp em background para cada tor file.\n",
    "# Aguarde o final da execução do GRASP antes de prosseguir.\n",
    "time.sleep(1)\n",
    "for tor_file in tor_files:\n",
    "    job = grasp.run_grasp(tor_file)\n",
    "    job.pid"
   ]
  },
  {
   "cell_type": "markdown",
   "id": "0bbee768",
   "metadata": {
    "heading_collapsed": true
   },
   "source": [
    "###  Rotações Feed"
   ]
  },
  {
   "cell_type": "code",
   "execution_count": null,
   "id": "66b3971b",
   "metadata": {
    "ExecuteTime": {
     "end_time": "2022-11-11T18:48:27.038123Z",
     "start_time": "2022-11-11T18:48:27.030461Z"
    },
    "hidden": true
   },
   "outputs": [],
   "source": [
    "params = np.linspace(-1.5, 1.5, 7)"
   ]
  },
  {
   "cell_type": "code",
   "execution_count": null,
   "id": "84afd96f",
   "metadata": {
    "ExecuteTime": {
     "end_time": "2022-11-11T18:48:28.688448Z",
     "start_time": "2022-11-11T18:48:27.550265Z"
    },
    "hidden": true
   },
   "outputs": [],
   "source": [
    "#----------------\n",
    "# Rotação em X\n",
    "#----------------\n",
    "tor_files = []\n",
    "for param in displacement:\n",
    "    tor_file = grasp.make_tor(object=\"feed\", phi=param, verbose=False)\n",
    "    tor_files.append(tor_file)\n",
    "# Roda o grasp em background para cada tor file.\n",
    "# Aguarde o final da execução do GRASP antes de prosseguir.\n",
    "time.sleep(1)\n",
    "for tor_file in tor_files:\n",
    "    job = grasp.run_grasp(tor_file)\n",
    "    job.pid"
   ]
  },
  {
   "cell_type": "code",
   "execution_count": null,
   "id": "74cf9545",
   "metadata": {
    "hidden": true
   },
   "outputs": [],
   "source": [
    "#----------------\n",
    "# Rotação em Y\n",
    "#----------------\n",
    "tor_files = []\n",
    "for param in displacement:\n",
    "    tor_file = grasp.make_tor(object=\"feed\", theta=param, verbose=False)\n",
    "    tor_files.append(tor_file)\n",
    "# Roda o grasp em background para cada tor file.\n",
    "# Aguarde o final da execução do GRASP antes de prosseguir.\n",
    "time.sleep(1)\n",
    "for tor_file in tor_files:\n",
    "    job = grasp.run_grasp(tor_file)\n",
    "    job.pid"
   ]
  },
  {
   "cell_type": "markdown",
   "id": "be268bcd",
   "metadata": {
    "heading_collapsed": true
   },
   "source": [
    "### Translações Secundário"
   ]
  },
  {
   "cell_type": "code",
   "execution_count": null,
   "id": "835a5e60",
   "metadata": {
    "ExecuteTime": {
     "end_time": "2022-11-11T17:55:43.338271Z",
     "start_time": "2022-11-11T17:55:43.333914Z"
    },
    "hidden": true
   },
   "outputs": [],
   "source": [
    "displacement = np.round(np.linspace(-0.5, 0.5, 7), 2)"
   ]
  },
  {
   "cell_type": "code",
   "execution_count": null,
   "id": "8accd6fa",
   "metadata": {
    "ExecuteTime": {
     "end_time": "2022-11-11T17:55:59.857153Z",
     "start_time": "2022-11-11T17:55:59.841813Z"
    },
    "hidden": true
   },
   "outputs": [],
   "source": [
    "#----------------\n",
    "# Translação em X\n",
    "#----------------\n",
    "tor_files = []\n",
    "for param in displacement:\n",
    "    tor_file = grasp.make_tor(object=\"secondary\", X0=param, verbose=False)\n",
    "    tor_files.append(tor_file)\n",
    "# Roda o grasp em background para cada tor file.\n",
    "# Aguarde o final da execução do GRASP antes de prosseguir.\n",
    "# time.sleep(1)\n",
    "# for tor_file in tor_files:\n",
    "#     job = grasp.run_grasp(tor_file)\n",
    "#     job.pid"
   ]
  },
  {
   "cell_type": "code",
   "execution_count": null,
   "id": "2dc00366",
   "metadata": {
    "hidden": true
   },
   "outputs": [],
   "source": [
    "#----------------\n",
    "# Translação em Y\n",
    "#----------------\n",
    "tor_files = []\n",
    "for param in displacement:\n",
    "    tor_file = grasp.make_tor(object=\"secondary\", Y0=param, verbose=False)\n",
    "    tor_files.append(tor_file)\n",
    "# Roda o grasp em background para cada tor file.\n",
    "# Aguarde o final da execução do GRASP antes de prosseguir.\n",
    "time.sleep(1)\n",
    "for tor_file in tor_files:\n",
    "    job = grasp.run_grasp(tor_file)\n",
    "    job.pid"
   ]
  },
  {
   "cell_type": "code",
   "execution_count": null,
   "id": "9dd2687b",
   "metadata": {
    "hidden": true
   },
   "outputs": [],
   "source": [
    "#----------------\n",
    "# Translação em Z\n",
    "#----------------\n",
    "tor_files = []\n",
    "for param in displacement:\n",
    "    tor_file = grasp.make_tor(object=\"secondary\", Z0=param, verbose=False)\n",
    "    tor_files.append(tor_file)\n",
    "# Roda o grasp em background para cada tor file.\n",
    "# Aguarde o final da execução do GRASP antes de prosseguir.\n",
    "time.sleep(1)\n",
    "for tor_file in tor_files:\n",
    "    job = grasp.run_grasp(tor_file)\n",
    "    job.pid"
   ]
  },
  {
   "cell_type": "markdown",
   "id": "670cbba6",
   "metadata": {},
   "source": [
    "## Visualizando Resultados"
   ]
  },
  {
   "cell_type": "markdown",
   "id": "appointed-lying",
   "metadata": {},
   "source": [
    "### Translação do Feed"
   ]
  },
  {
   "cell_type": "code",
   "execution_count": null,
   "id": "edcc317b",
   "metadata": {
    "ExecuteTime": {
     "end_time": "2022-11-11T20:00:51.495323Z",
     "start_time": "2022-11-11T20:00:51.433492Z"
    }
   },
   "outputs": [],
   "source": [
    "df_gain_x, dfs_x = grasp.load_cuts(\"../grasp/STANDARD/job_feed_*_0_0_0_0/*.cut\")\n",
    "df_gain_y, dfs_y = grasp.load_cuts(\"../grasp/STANDARD/job_feed_0_*_0_0_0/*.cut\")\n",
    "df_gain_z, dfs_z = grasp.load_cuts(\"../grasp/STANDARD/job_feed_0_0_*_0_0/*.cut\")"
   ]
  },
  {
   "cell_type": "code",
   "execution_count": null,
   "id": "inappropriate-stretch",
   "metadata": {
    "ExecuteTime": {
     "end_time": "2022-11-11T20:01:03.944312Z",
     "start_time": "2022-11-11T20:01:02.149306Z"
    }
   },
   "outputs": [],
   "source": [
    "# Visualização da coleção de padrões de feixe.\n",
    "fig, ax = plt.subplots(ncols=3, figsize=(15, 6))\n",
    "for ii, df in enumerate(dfs_x):\n",
    "    grasp.plot_beam_pattern(df, ax=ax[0], label=df_gain_x.Values[ii], norm=False);\n",
    "#ax[0].set_xlim([-2, 2])\n",
    "ax[0].set_title(\"Translação X\")\n",
    "for ii, df in enumerate(dfs_y):\n",
    "    grasp.plot_beam_pattern(df, ax=ax[1], label=df_gain_y.Values[ii], norm=False);\n",
    "ax[1].set_xlim([-2, 2])\n",
    "ax[1].set_title(\"Translação Y\")\n",
    "for ii, df in enumerate(dfs_z):\n",
    "    grasp.plot_beam_pattern(df, ax=ax[2], label=df_gain_z.Values[ii], norm=False);\n",
    "ax[2].set_xlim([-2, 2])\n",
    "ax[2].set_title(\"Translação Z\")\n",
    "plt.show();"
   ]
  },
  {
   "cell_type": "code",
   "execution_count": null,
   "id": "secret-intranet",
   "metadata": {
    "ExecuteTime": {
     "end_time": "2022-11-11T19:17:51.977139Z",
     "start_time": "2022-11-11T19:17:51.137775Z"
    }
   },
   "outputs": [],
   "source": [
    "fig, ax = plt.subplots(ncols=2)\n",
    "ax[0].scatter(df_gain_z.Values, df_gain_z.Gain / df_gain_z.Gain[3] , label=\"translação eixo z\")\n",
    "ax[0].scatter(df_gain_y.Values, df_gain_y.Gain / df_gain_z.Gain[3], label=\"translação eixo y\")\n",
    "ax[0].scatter(df_gain_x.Values, df_gain_x.Gain / df_gain_z.Gain[3], label=\"translação eixo x\")\n",
    "ax[0].set_xlabel(\"Deslocamento (cm)\")\n",
    "ax[0].set_ylabel(r\"$G/G_0$\")\n",
    "ax[0].legend()\n",
    "ax[0].grid(axis=\"y\")\n",
    "ax[1].scatter(df_gain_z.Values, df_gain_z.Gain_Max / df_gain_z.Gain_Max[3], label=\"translação eixo z\")\n",
    "ax[1].scatter(df_gain_y.Values, df_gain_y.Gain_Max / df_gain_z.Gain_Max[3], label=\"translação eixo y\")\n",
    "ax[1].scatter(df_gain_x.Values, df_gain_x.Gain_Max / df_gain_z.Gain_Max[3], label=\"translação eixo x\")\n",
    "ax[1].set_xlabel(\"Deslocamento (cm)\")\n",
    "ax[1].set_ylabel(r\"$G_{MAX}/G_{MAX, 0}$\")\n",
    "ax[1].legend()\n",
    "ax[1].grid(axis=\"y\")\n",
    "plt.show();"
   ]
  },
  {
   "cell_type": "markdown",
   "id": "c8b7f268",
   "metadata": {
    "heading_collapsed": true
   },
   "source": [
    "### Rotações do Feed"
   ]
  },
  {
   "cell_type": "code",
   "execution_count": null,
   "id": "62412272",
   "metadata": {
    "ExecuteTime": {
     "end_time": "2022-11-11T11:19:02.571965Z",
     "start_time": "2022-11-11T11:19:02.380738Z"
    },
    "hidden": true
   },
   "outputs": [],
   "source": [
    "df_gain_rot_x, dfs_rot_x = grasp.load_cuts(\"../grasp/STANDARD/job_feed_rotation_x*/dual_cut*\")\n",
    "df_gain_rot_y, dfs_rot_y = grasp.load_cuts(\"../grasp/STANDARD/job_feed_rotation_y*/dual_cut*\")"
   ]
  },
  {
   "cell_type": "code",
   "execution_count": null,
   "id": "59dba942",
   "metadata": {
    "ExecuteTime": {
     "end_time": "2022-11-11T11:19:04.158248Z",
     "start_time": "2022-11-11T11:19:03.103496Z"
    },
    "hidden": true
   },
   "outputs": [],
   "source": [
    "# Visualização da coleção de padrões de feixe.\n",
    "fig, ax = plt.subplots(ncols=2, figsize=(15, 6))\n",
    "for ii, df in enumerate(dfs_rot_x):\n",
    "    grasp.plot_beam_pattern(df, ax=ax[0], label=df_gain_rot_x.Values[ii], norm=False);\n",
    "ax[0].set_xlim([-2, 2])\n",
    "for ii, df in enumerate(dfs_rot_y):\n",
    "    grasp.plot_beam_pattern(df, ax=ax[1], label=df_gain_rot_y.Values[ii], norm=False);\n",
    "ax[1].set_xlim([-2, 2])\n",
    "plt.show();"
   ]
  },
  {
   "cell_type": "code",
   "execution_count": null,
   "id": "b282f2c9",
   "metadata": {
    "ExecuteTime": {
     "end_time": "2022-11-11T11:19:05.134031Z",
     "start_time": "2022-11-11T11:19:04.201286Z"
    },
    "hidden": true
   },
   "outputs": [],
   "source": [
    "fig, ax = plt.subplots(ncols=2)\n",
    "ax[0].scatter(df_gain_rot_y.Values, df_gain_rot_y.Gain / df_gain_rot_y.Gain[3], label=\"rotação eixo y\")\n",
    "ax[0].scatter(df_gain_rot_x.Values, df_gain_rot_x.Gain / df_gain_rot_x.Gain[3], label=\"rotação eixo x\")\n",
    "ax[0].set_xlabel(r\"Ângulo $(^\\circ)$\")\n",
    "ax[0].set_ylabel(r\"$G/G_0$\")\n",
    "ax[0].legend()\n",
    "ax[0].grid(axis=\"y\")\n",
    "ax[1].scatter(df_gain_rot_y.Values, df_gain_rot_y.Gain_Max / df_gain_rot_y.Gain_Max[3], label=\"rotação eixo y\")\n",
    "ax[1].scatter(df_gain_rot_x.Values, df_gain_rot_x.Gain_Max / df_gain_rot_x.Gain_Max[3], label=\"rotação eixo x\")\n",
    "ax[1].set_xlabel(r\"Ângulo $(^\\circ)$\")\n",
    "ax[1].set_ylabel(r\"$G_{MAX}/G_{MAX, 0}$\")\n",
    "ax[1].legend()\n",
    "ax[1].grid(axis=\"y\")\n",
    "plt.show();"
   ]
  },
  {
   "cell_type": "markdown",
   "id": "9b6569fe",
   "metadata": {},
   "source": [
    "### Translações do Secundário"
   ]
  },
  {
   "cell_type": "code",
   "execution_count": null,
   "id": "2f8cc5e4",
   "metadata": {
    "ExecuteTime": {
     "end_time": "2022-11-11T11:25:49.537445Z",
     "start_time": "2022-11-11T11:25:49.465211Z"
    }
   },
   "outputs": [],
   "source": [
    "df_gain_sec_x, dfs_sec_x = grasp.load_cuts(\"../grasp/STANDARD/job_secondary_translation_x*/dual_cut*\")\n",
    "# df_gain_sec_y, dfs_sec_y = grasp.load_cuts(\"../grasp/STANDARD/job_secondary_translation_y*/dual_cut*\")\n",
    "# df_gain_sec_z, dfs_sec_z = grasp.load_cuts(\"../grasp/STANDARD/job_secondary_translation_z*/dual_cut*\")"
   ]
  },
  {
   "cell_type": "code",
   "execution_count": null,
   "id": "7c488f35",
   "metadata": {
    "ExecuteTime": {
     "end_time": "2022-11-11T11:27:28.169280Z",
     "start_time": "2022-11-11T11:27:27.485605Z"
    }
   },
   "outputs": [],
   "source": [
    "# Visualização da coleção de padrões de feixe.\n",
    "fig, ax = plt.subplots(ncols=3, figsize=(15, 6))\n",
    "for ii, df in enumerate(dfs_sec_x):\n",
    "    grasp.plot_beam_pattern(df, ax=ax[0], label=df_gain_sec_x.Values[ii], norm=False);\n",
    "#ax[0].set_xlim([-2, 2])\n",
    "ax[0].set_title(\"Translação X\")\n",
    "# for ii, df in enumerate(dfs_sec_y):\n",
    "#     grasp.plot_beam_pattern(df, ax=ax[1], label=df_gain_sec_y.Values[ii], norm=False);\n",
    "ax[1].set_xlim([-2, 2])\n",
    "ax[1].set_title(\"Translação Y\")\n",
    "# for ii, df in enumerate(dfs_sec_z):\n",
    "#     grasp.plot_beam_pattern(df, ax=ax[2], label=df_gain_sec_z.Values[ii], norm=False);\n",
    "ax[2].set_xlim([-2, 2])\n",
    "ax[2].set_title(\"Translação Z\")\n",
    "plt.show();"
   ]
  },
  {
   "cell_type": "code",
   "execution_count": null,
   "id": "2f6988b3",
   "metadata": {
    "ExecuteTime": {
     "end_time": "2022-11-11T11:26:38.239918Z",
     "start_time": "2022-11-11T11:26:37.615333Z"
    }
   },
   "outputs": [],
   "source": [
    "fig, ax = plt.subplots(ncols=2)\n",
    "#ax[0].scatter(df_gain_sec_z.Values, df_gain_sec_z.Gain / df_gain_sec_z.Gain[3] , label=\"translação eixo z\")\n",
    "#ax[0].scatter(df_gain_sec_y.Values, df_gain_sec_y.Gain / df_gain_sec_z.Gain[3], label=\"translação eixo y\")\n",
    "ax[0].scatter(df_gain_sec_x.Values, df_gain_sec_x.Gain / df_gain_sec_x.Gain[3], label=\"translação eixo x\")\n",
    "ax[0].set_sec_xlabel(\"Deslocamento (cm)\")\n",
    "ax[0].set_sec_ylabel(r\"$G/G_0$\")\n",
    "ax[0].legend()\n",
    "ax[0].grid(axis=\"y\")\n",
    "ax[1].scatter(df_gain_sec_z.Values, df_gain_sec_z.Gain_Max / df_gain_sec_z.Gain_Max[3], label=\"translação eixo z\")\n",
    "ax[1].scatter(df_gain_sec_y.Values, df_gain_sec_y.Gain_Max / df_gain_sec_z.Gain_Max[3], label=\"translação eixo y\")\n",
    "ax[1].scatter(df_gain_sec_x.Values, df_gain_sec_x.Gain_Max / df_gain_sec_z.Gain_Max[3], label=\"translação eixo x\")\n",
    "ax[1].set_sec_xlabel(\"Deslocamento (cm)\")\n",
    "ax[1].set_sec_ylabel(r\"$G_{MAX}/G_{MAX, 0}$\")\n",
    "ax[1].legend()\n",
    "ax[1].grid(axis=\"y\")\n",
    "plt.show();"
   ]
  },
  {
   "cell_type": "markdown",
   "id": "62d32777",
   "metadata": {},
   "source": [
    "## Conclusões"
   ]
  },
  {
   "cell_type": "markdown",
   "id": "27615ae5",
   "metadata": {},
   "source": [
    "- Translação no eixo z, ao longo do eixo ótico, tem pouca influência.\n",
    "- Translações no eixo x correpondem a subir ou descer a corneta e tem efeito pronunciado no ganho.\n",
    "- Translações no eixo y correspondem a movimentos laterais da corneta que tem um efeito moderado no ganho, mas alteram de forma significativa o padrão do feixe. \n",
    "- Rotações ao longo do eixo x correspondem a movimentos laterais da corneta.\n",
    "- Rotações ao longo do eixo y correspondem a levantar ou abaixar a corneta."
   ]
  },
  {
   "cell_type": "markdown",
   "id": "a9638574",
   "metadata": {},
   "source": [
    "## Emcee Analysis"
   ]
  },
  {
   "cell_type": "code",
   "execution_count": null,
   "id": "edee5a01",
   "metadata": {
    "ExecuteTime": {
     "end_time": "2022-11-11T18:12:44.253584Z",
     "start_time": "2022-11-11T18:12:44.236082Z"
    }
   },
   "outputs": [],
   "source": [
    "def make_tor_mcmc(*thetas):\n",
    "    dirname = \"../grasp/STANDARD/tmp_mcmc/\"\n",
    "    # cria pasta\n",
    "    if not os.path.isdir(dirname):\n",
    "        os.mkdir(dirname)\n",
    "    filename = dirname + str(np.random.randint(10000000)) + \".tor\"\n",
    "    feed_string1 = grasp.move_feed(x=thetas[0], y=0, z=0, theta=0, phi=thetas[1])\n",
    "    # grava arquivo tor\n",
    "    grasp._make_tor(filename, feed_string1, \"../grasp/STANDARD/BINGO_CUT_fast.tor\", 15, 7)\n",
    "    sec_string = grasp.translate_secondary(x=thetas[2])\n",
    "    grasp._make_tor(filename, sec_string, filename, 7, 0)\n",
    "    return filename"
   ]
  },
  {
   "cell_type": "code",
   "execution_count": null,
   "id": "cf3ea754",
   "metadata": {
    "ExecuteTime": {
     "end_time": "2022-11-11T18:14:00.158139Z",
     "start_time": "2022-11-11T18:14:00.115149Z"
    }
   },
   "outputs": [],
   "source": [
    "tor_file = make_tor_mcmc(0, 0, 0)\n",
    "tor_file"
   ]
  },
  {
   "cell_type": "code",
   "execution_count": null,
   "id": "5a335755",
   "metadata": {
    "ExecuteTime": {
     "end_time": "2022-11-11T18:15:38.748572Z",
     "start_time": "2022-11-11T18:14:17.302310Z"
    }
   },
   "outputs": [],
   "source": [
    "grasp.run_grasp(tor_file, daemon=False)"
   ]
  },
  {
   "cell_type": "code",
   "execution_count": null,
   "id": "1248c6ec",
   "metadata": {
    "ExecuteTime": {
     "end_time": "2022-11-11T15:01:34.747393Z",
     "start_time": "2022-11-11T15:01:34.723837Z"
    }
   },
   "outputs": [],
   "source": [
    "best_fit = grasp.read_cut(\"../grasp/STANDARD/job_feed_translation_x_0/dual_cut01\")\n",
    "best_params = [0, 0]\n",
    "\n",
    "def residual(df, n_params):\n",
    "    result = np.sqrt(np.sum( ((df.Eco**2 + df.ImEco**2) - (best_fit.Eco**2 + best_fit.ImEco**2)) ** 2)) / (best_fit.shape[0] - n_params)\n",
    "    return result\n",
    "    \n",
    "    \n",
    "def log_prior(*thetas, t1_range=[-5, 5], t2_range=[-5, 5]):\n",
    "    if thetas[0] > t1_range[0] and thetas[0] < t1_range[1]:\n",
    "        if thetas[1] > t2_range[0] and thetas[1] < t2_range[1]:\n",
    "            result = 0\n",
    "        else:\n",
    "            result = -np.inf\n",
    "    else:\n",
    "        result = -np.inf\n",
    "    return result\n",
    "\n",
    "\n",
    "def log_likelyhood(*thetas):\n",
    "    tor_file = make_tor_mcmc(*thetas)\n",
    "    grasp.run_grasp(tor_file, daemon=False)\n",
    "    df = grasp.read_cut(\"../grasp/STANDARD/tmp_mcmc/\"+tor_file + \".cut\")\n",
    "    result = - residual(df, len(thetas))\n",
    "    return result\n",
    "\n",
    "\n",
    "def log_posterior(thetas):\n",
    "    result = log_prior(thetas) + log_likelyhood(thetas)\n",
    "    return result"
   ]
  },
  {
   "cell_type": "code",
   "execution_count": null,
   "id": "bcc159ee",
   "metadata": {
    "ExecuteTime": {
     "end_time": "2022-11-11T16:15:57.512091Z",
     "start_time": "2022-11-11T16:15:57.112019Z"
    }
   },
   "outputs": [],
   "source": [
    "tor_file = make_tor_mcmc(1, 1)\n",
    "tor_file\n",
    "#grasp.run_grasp(tor_file, daemon=False)"
   ]
  },
  {
   "cell_type": "code",
   "execution_count": null,
   "id": "a7f656ea",
   "metadata": {
    "ExecuteTime": {
     "end_time": "2022-11-11T15:01:35.571867Z",
     "start_time": "2022-11-11T15:01:35.556660Z"
    }
   },
   "outputs": [],
   "source": [
    "df = grasp.read_cut(\"../grasp/STANDARD/tmp_mcmc/dual_cut01\")"
   ]
  },
  {
   "cell_type": "code",
   "execution_count": null,
   "id": "a8cb7367",
   "metadata": {
    "ExecuteTime": {
     "end_time": "2022-11-11T14:36:54.824252Z",
     "start_time": "2022-11-11T14:36:54.791883Z"
    }
   },
   "outputs": [],
   "source": [
    "ndim = len(best_params)\n",
    "nburn = 1\n",
    "nwalkers = 2\n",
    "nsteps = 20\n",
    "starting_guesses = np.random.normal(loc=0, scale=0.1, size=(nwalkers, ndim) )\n"
   ]
  },
  {
   "cell_type": "code",
   "execution_count": null,
   "id": "a4d5d0d9",
   "metadata": {},
   "outputs": [],
   "source": [
    "sampler = emcee.EnsembleSampler(nwalkers, ndim, log_posterior, args=[xx, yy], pool=pool)\n",
    "sampler.run_mcmc(starting_guesses, nsteps, progress=True);"
   ]
  },
  {
   "cell_type": "code",
   "execution_count": null,
   "id": "02a47b13",
   "metadata": {},
   "outputs": [],
   "source": [
    "samples = sampler.get_chain(discard=nburn, flat=True)\n",
    "thetas = np.zeros(ndim)\n",
    "errs = np.zeros(ndim)\n",
    "for ii in np.arange(ndim):\n",
    "    mcmc = np.percentile(samples[:, ii], [5, 50, 95])\n",
    "    thetas[ii] = mcmc[1]\n",
    "    errs[ii] = (mcmc[2] - mcmc[0])/2"
   ]
  },
  {
   "cell_type": "code",
   "execution_count": null,
   "id": "732f8a96",
   "metadata": {},
   "outputs": [],
   "source": []
  }
 ],
 "metadata": {
  "hide_input": false,
  "kernelspec": {
   "display_name": "GNURADIO3.10",
   "language": "python",
   "name": "gnuradio3.10"
  },
  "language_info": {
   "codemirror_mode": {
    "name": "ipython",
    "version": 3
   },
   "file_extension": ".py",
   "mimetype": "text/x-python",
   "name": "python",
   "nbconvert_exporter": "python",
   "pygments_lexer": "ipython3",
   "version": "3.10.6"
  },
  "latex_envs": {
   "LaTeX_envs_menu_present": true,
   "autoclose": true,
   "autocomplete": false,
   "bibliofile": "biblio.bib",
   "cite_by": "apalike",
   "current_citInitial": 1,
   "eqLabelWithNumbers": true,
   "eqNumInitial": 1,
   "hotkeys": {
    "equation": "Ctrl-E",
    "itemize": "Ctrl-I"
   },
   "labels_anchors": false,
   "latex_user_defs": false,
   "report_style_numbering": true,
   "user_envs_cfg": false
  },
  "toc": {
   "base_numbering": 1,
   "nav_menu": {},
   "number_sections": false,
   "sideBar": true,
   "skip_h1_title": true,
   "title_cell": "Table of Contents",
   "title_sidebar": "Contents",
   "toc_cell": false,
   "toc_position": {},
   "toc_section_display": true,
   "toc_window_display": false
  }
 },
 "nbformat": 4,
 "nbformat_minor": 5
}
