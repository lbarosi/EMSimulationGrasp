{
 "cells": [
  {
   "cell_type": "markdown",
   "id": "voluntary-turning",
   "metadata": {},
   "source": [
    "# GRASP Beam Analysis"
   ]
  },
  {
   "cell_type": "markdown",
   "id": "9d3ffc29",
   "metadata": {},
   "source": [
    "## Introduction"
   ]
  },
  {
   "cell_type": "markdown",
   "id": "d8e522a2",
   "metadata": {},
   "source": [
    "**Goal**: Study the effect of deformations and position erros in geometric parameters of BINGO optics for the Beam quality.\n",
    "\n",
    "**Method**: We vary the position of the feed w.r.t. translation and rotations and the position of the secondary w.r.t. translations, obtaining the beam pattern with GRASP, using the notebook make_dataset.\n",
    "\n",
    "**Analysis**: We construct a handful of metrics to analyze the quality of Beam and discuss the results."
   ]
  },
  {
   "cell_type": "markdown",
   "id": "f0cb72fc",
   "metadata": {},
   "source": [
    "### Geometry"
   ]
  },
  {
   "cell_type": "markdown",
   "id": "8c292bc8",
   "metadata": {
    "ExecuteTime": {
     "end_time": "2022-11-13T22:07:33.189143Z",
     "start_time": "2022-11-13T22:07:32.660325Z"
    }
   },
   "source": [
    "![GRASP](./xzcut.png)"
   ]
  },
  {
   "cell_type": "markdown",
   "id": "19707048",
   "metadata": {},
   "source": [
    "![GRASP](./GRASP_VIEW.png)"
   ]
  },
  {
   "cell_type": "markdown",
   "id": "0baa081d",
   "metadata": {},
   "source": [
    " - Translations and Rotation of the feed wrt to the coordinate system of the central feed. Blue axis is Z, red axis is X.\n",
    " - Translations of the secondary w.r.t. the coordinate system in the centre of the figure, where the eletric field is calculated."
   ]
  },
  {
   "cell_type": "markdown",
   "id": "a9615fa4",
   "metadata": {},
   "source": [
    "### Efficiency Metrics"
   ]
  },
  {
   "cell_type": "markdown",
   "id": "bb76405f",
   "metadata": {},
   "source": [
    "We calculate a number of metrics in order to describe the beam:\n",
    "\n",
    "- Directivity (dB):\n",
    "$$D_{max} = 10 \\log_{10} \\frac{4 \\pi \\Vert E^2\\Vert_{max}}{\\iint \\Vert E^2\\Vert d\\Omega}$$\n",
    "\n",
    "- Main Beam Efficiency (spillover)\n",
    "$$\\eta_{spill} = \\frac{\\iint_{\\mathrm{MB}} \\Vert E^2\\Vert d\\Omega}{\\iint \\Vert E^2\\Vert d\\Omega}$$\n",
    "\n",
    "- Polarization Efficiency:\n",
    "\n",
    "$$\\eta_{pol} = \\frac{\\iint_{\\mathrm{MB}} \\Vert E_{CO}^2\\Vert d\\Omega}{\\iint_{\\mathrm{MB}} \\Vert E^2\\Vert d\\Omega}$$\n",
    "\n",
    "- Amplitude Efficency:\n",
    "\n",
    "$$\\eta_{Amp} = \\frac{\\left(\\iint_{\\mathrm{MB}} \\Vert E_{CO}\\Vert d\\Omega\\right)^2}{\\Omega \\iint_{\\mathrm{MB}} \\Vert E_{CO}^2\\Vert d\\Omega}$$\n",
    "\n",
    "- Phase Efficency:\n",
    "\n",
    "$$\\eta_{phase} = \\frac{\\Vert\\iint_{\\mathrm{MB}}  E_{CO} d\\Omega\\Vert^2}{\\left(\\iint_{\\mathrm{MB}} \\Vert E_{CO}\\Vert d\\Omega\\right)^2}$$\n",
    "\n",
    "- Total gain efficency:\n",
    "\n",
    "$$\\eta = \\frac{\\Vert\\iint_{\\mathrm{MB}}  E_{CO} d\\Omega\\Vert^2}{\\iint_{\\mathrm{MB}} \\Vert E\\Vert^2 d\\Omega}$$\n",
    "\n"
   ]
  },
  {
   "cell_type": "markdown",
   "id": "provincial-penny",
   "metadata": {
    "tags": []
   },
   "source": [
    "## Inicialização"
   ]
  },
  {
   "cell_type": "code",
   "execution_count": 1,
   "id": "eleven-binding",
   "metadata": {
    "ExecuteTime": {
     "end_time": "2022-11-14T17:16:28.809434Z",
     "start_time": "2022-11-14T17:16:27.929293Z"
    },
    "execution": {
     "iopub.execute_input": "2022-11-12T15:54:02.205128Z",
     "iopub.status.busy": "2022-11-12T15:54:02.204945Z",
     "iopub.status.idle": "2022-11-12T15:54:02.902894Z",
     "shell.execute_reply": "2022-11-12T15:54:02.902353Z",
     "shell.execute_reply.started": "2022-11-12T15:54:02.205087Z"
    },
    "tags": []
   },
   "outputs": [],
   "source": [
    "import os\n",
    "import sys\n",
    "import glob\n",
    "from IPython.core.interactiveshell import InteractiveShell\n",
    "from IPython.display import display\n",
    "#-----\n",
    "import time\n",
    "import subprocess\n",
    "import matplotlib.pyplot as plt\n",
    "import numpy as np\n",
    "import pandas as pd\n",
    "sys.path.append(os.path.abspath(os.path.join(os.path.split(os.getcwd())[0], \"src\")))\n",
    "import grasp\n",
    "#-----\n",
    "%matplotlib inline\n",
    "plt.rcParams[\"figure.figsize\"] = (16, 6)\n",
    "InteractiveShell.ast_node_interactivity = \"all\""
   ]
  },
  {
   "cell_type": "markdown",
   "id": "670cbba6",
   "metadata": {},
   "source": [
    "## Visualizando Resultados"
   ]
  },
  {
   "cell_type": "markdown",
   "id": "appointed-lying",
   "metadata": {},
   "source": [
    "### Translação do Feed"
   ]
  },
  {
   "cell_type": "code",
   "execution_count": 2,
   "id": "edcc317b",
   "metadata": {
    "ExecuteTime": {
     "end_time": "2022-11-14T17:16:31.028879Z",
     "start_time": "2022-11-14T17:16:28.811956Z"
    },
    "execution": {
     "iopub.execute_input": "2022-11-12T15:54:09.671033Z",
     "iopub.status.busy": "2022-11-12T15:54:09.670670Z",
     "iopub.status.idle": "2022-11-12T15:54:09.841494Z",
     "shell.execute_reply": "2022-11-12T15:54:09.840933Z",
     "shell.execute_reply.started": "2022-11-12T15:54:09.671006Z"
    },
    "tags": []
   },
   "outputs": [],
   "source": [
    "df_gain_x, dfs_x = grasp.load_cuts(\"../data/raw/grasp/job_central__feed_*_0_0_0_0/*.cut\")\n",
    "df_gain_y, dfs_y = grasp.load_cuts(\"../data/raw/grasp/job_central__feed_0_*_0_0_0/*.cut\")\n",
    "df_gain_z, dfs_z = grasp.load_cuts(\"../data/raw/grasp/job_central__feed_0_0_*_0_0/*.cut\")"
   ]
  },
  {
   "cell_type": "code",
   "execution_count": 3,
   "id": "inappropriate-stretch",
   "metadata": {
    "ExecuteTime": {
     "end_time": "2022-11-14T17:16:32.756317Z",
     "start_time": "2022-11-14T17:16:31.031226Z"
    },
    "execution": {
     "iopub.execute_input": "2022-11-12T15:54:12.380413Z",
     "iopub.status.busy": "2022-11-12T15:54:12.380163Z",
     "iopub.status.idle": "2022-11-12T15:54:12.888352Z",
     "shell.execute_reply": "2022-11-12T15:54:12.887841Z",
     "shell.execute_reply.started": "2022-11-12T15:54:12.380397Z"
    },
    "tags": []
   },
   "outputs": [
    {
     "data": {
      "image/png": "[encoded data removed]",
      "text/plain": [
       "<Figure size 1200x400 with 3 Axes>"
      ]
     },
     "metadata": {},
     "output_type": "display_data"
    }
   ],
   "source": [
    "# Visualização da coleção de padrões de feixe.\n",
    "fig, ax = plt.subplots(ncols=3, figsize=(12, 4), sharey=True)\n",
    "for ii, df in enumerate(dfs_x):\n",
    "    grasp.plot_beam_pattern(df, ax=ax[0], label=str(df_gain_x.Values[ii]) + \"cm\", norm=False);\n",
    "ax[0].set_xlim([-1, 1])\n",
    "ax[0].set_ylim([-20,60])\n",
    "ax[0].set_title(\"Translation X\")\n",
    "ax[0].legend(ncols=2, loc=(0.1, -0.5))\n",
    "for ii, df in enumerate(dfs_y):\n",
    "    grasp.plot_beam_pattern(df, ax=ax[1], label=str(df_gain_y.Values[ii]) + \"cm\", norm=False);\n",
    "ax[1].set_xlim([-1, 1])\n",
    "ax[1].set_ylim([-20,60])\n",
    "ax[1].set_title(\"Translation Y\")\n",
    "ax[1].legend(ncols=2, loc=(0.1, -0.5))\n",
    "for ii, df in enumerate(dfs_z):\n",
    "    grasp.plot_beam_pattern(df, ax=ax[2], label=str(df_gain_z.Values[ii]) + \"cm\", norm=False);\n",
    "ax[2].set_xlim([-1, 1])\n",
    "ax[2].set_ylim([-20,60])\n",
    "ax[2].set_title(\"Translation Z\")\n",
    "ax[2].legend(ncols=2, loc=(0.1, -0.5))\n",
    "plt.show();"
   ]
  },
  {
   "cell_type": "code",
   "execution_count": 4,
   "id": "af1b5052",
   "metadata": {
    "ExecuteTime": {
     "end_time": "2022-11-14T17:16:32.766018Z",
     "start_time": "2022-11-14T17:16:32.759983Z"
    }
   },
   "outputs": [],
   "source": [
    "df_gain_x_s = df_gain_x.sort_values(by=\"Values\")\n",
    "df_gain_y_s = df_gain_y.sort_values(by=\"Values\")\n",
    "df_gain_z_s = df_gain_z.sort_values(by=\"Values\")"
   ]
  },
  {
   "cell_type": "code",
   "execution_count": null,
   "id": "a7dd6887",
   "metadata": {
    "ExecuteTime": {
     "start_time": "2022-11-14T17:16:28.129Z"
    }
   },
   "outputs": [],
   "source": [
    "fig, ax = plt.subplots(ncols=3, figsize=(12, 4), sharey=True)\n",
    "ax[0].plot(df_gain_x_s.Values, df_gain_x_s.Gain, label = \"Gain\", marker=\"+\", linewidth=0.5)\n",
    "ax[0].plot(df_gain_x_s.Values, df_gain_x_s.eta_spill, label = \"Spill-Over\", marker=\"+\", linewidth=0.5, linestyle=\"dotted\")\n",
    "ax[0].plot(df_gain_x_s.Values, df_gain_x_s.eta_pol, label = \"Polarization\", marker=\"+\", linewidth=0.5, linestyle=\"dotted\")\n",
    "ax[0].plot(df_gain_x_s.Values, df_gain_x_s.eta_amp, label = \"Amplitude\", marker=\"+\", linewidth=0.5, linestyle=\"dotted\")\n",
    "ax[0].plot(df_gain_x_s.Values, df_gain_x_s.eta_phase, label = \"phase\", marker=\"+\", linewidth=0.5, linestyle=\"dotted\")\n",
    "ax[0].set_title(\"Translation X\")\n",
    "ax[0].set_xlabel(\"displacement (m)\")\n",
    "ax[0].set_ylabel(\"Efficiency\")\n",
    "ax[0].legend(ncols=5, loc=(0.6, -0.3))\n",
    "ax[1].plot(df_gain_y_s.Values, df_gain_y_s.Gain, label = \"Gain\", marker=\"+\", linewidth=0.5)\n",
    "ax[1].plot(df_gain_y_s.Values, df_gain_y_s.eta_spill, label = \"Spill-Over\", marker=\"+\", linewidth=0.5, linestyle=\"dotted\")\n",
    "ax[1].plot(df_gain_y_s.Values, df_gain_y_s.eta_pol, label = \"Polarization\", marker=\"+\", linewidth=0.5, linestyle=\"dotted\")\n",
    "ax[1].plot(df_gain_y_s.Values, df_gain_y_s.eta_amp, label = \"Amplitude\", marker=\"+\", linewidth=0.5, linestyle=\"dotted\")\n",
    "ax[1].plot(df_gain_y_s.Values, df_gain_y_s.eta_phase, label = \"phase\", marker=\"+\", linewidth=0.5, linestyle=\"dotted\")\n",
    "ax[1].set_title(\"Translation Y\")\n",
    "ax[1].set_xlabel(\"displacement (m)\")\n",
    "ax[2].plot(df_gain_z_s.Values, df_gain_z_s.Gain, label = \"Gain\", marker=\"+\", linewidth=0.5)\n",
    "ax[2].plot(df_gain_z_s.Values, df_gain_z_s.eta_spill, label = \"Spill-Over\", marker=\"+\", linewidth=0.5, linestyle=\"dotted\")\n",
    "ax[2].plot(df_gain_z_s.Values, df_gain_z_s.eta_pol, label = \"Polarization\", marker=\"+\", linewidth=0.5, linestyle=\"dotted\")\n",
    "ax[2].plot(df_gain_z_s.Values, df_gain_z_s.eta_amp, label = \"Amplitude\", marker=\"+\", linewidth=0.5, linestyle=\"dotted\")\n",
    "ax[2].plot(df_gain_z_s.Values, df_gain_z_s.eta_phase, label = \"phase\", marker=\"+\", linewidth=0.5, linestyle=\"dotted\")\n",
    "ax[2].set_title(\"Translation Z\")\n",
    "ax[2].set_xlabel(\"displacement (m)\")\n",
    "plt.show();"
   ]
  },
  {
   "cell_type": "code",
   "execution_count": null,
   "id": "142f7395",
   "metadata": {
    "ExecuteTime": {
     "start_time": "2022-11-14T17:16:28.132Z"
    }
   },
   "outputs": [],
   "source": [
    "fig, ax = plt.subplots(ncols=3, figsize=(12, 4), sharey=True)\n",
    "ax[0].plot(df_gain_x_s.Values, df_gain_x_s.FWHM * 2, marker=\"+\", linewidth=0.5)\n",
    "ax[0].set_title(\"Translation X\")\n",
    "ax[0].set_xlabel(\"displacement (m)\")\n",
    "ax[0].set_ylabel(r\"FWHM $(^\\circ)$\")\n",
    "ax[1].plot(df_gain_y_s.Values, df_gain_y_s.FWHM * 2, marker=\"+\", linewidth=0.5)\n",
    "ax[1].set_title(\"Translation Y\")\n",
    "ax[1].set_xlabel(\"displacement (m)\")\n",
    "ax[2].plot(df_gain_z_s.Values, df_gain_z_s.FWHM * 2, marker=\"+\", linewidth=0.5)\n",
    "ax[2].set_title(\"Translation Z\")\n",
    "ax[2].set_xlabel(\"displacement (m)\")\n",
    "plt.show();"
   ]
  },
  {
   "cell_type": "code",
   "execution_count": null,
   "id": "secret-intranet",
   "metadata": {
    "ExecuteTime": {
     "start_time": "2022-11-14T17:16:28.134Z"
    },
    "execution": {
     "iopub.execute_input": "2022-11-12T15:57:38.707651Z",
     "iopub.status.busy": "2022-11-12T15:57:38.707035Z",
     "iopub.status.idle": "2022-11-12T15:57:38.891780Z",
     "shell.execute_reply": "2022-11-12T15:57:38.891242Z",
     "shell.execute_reply.started": "2022-11-12T15:57:38.707631Z"
    },
    "tags": []
   },
   "outputs": [],
   "source": [
    "df_n_z = grasp.normalize(df_gain_z_s)\n",
    "df_n_y = grasp.normalize(df_gain_y_s)\n",
    "df_n_x = grasp.normalize(df_gain_x_s)\n",
    "fig, ax = plt.subplots(ncols=2)\n",
    "ax[0].scatter(df_n_z.Values, df_n_z.delta_Gain, label=\"translation z\")\n",
    "ax[0].scatter(df_n_y.Values, df_n_y.delta_Gain, label=\"translation y\")\n",
    "ax[0].scatter(df_n_x.Values, df_n_x.delta_Gain, label=\"translation x\")\n",
    "ax[0].set_xlabel(\"Deslocamento (m)\")\n",
    "ax[0].set_ylabel(r\"$\\frac{\\Delta G}{G_0}$\")\n",
    "ax[0].legend()\n",
    "ax[0].grid(axis=\"y\")\n",
    "ax[1].scatter(df_n_z.Values, df_n_z.delta_Gain_Max, label=\"translation z\")\n",
    "ax[1].scatter(df_n_y.Values, df_n_y.delta_Gain_Max, label=\"translation y\")\n",
    "ax[1].scatter(df_n_x.Values, df_n_x.delta_Gain_Max, label=\"translation x\")\n",
    "ax[1].set_xlabel(\"Deslocamento (m)\")\n",
    "ax[1].set_ylabel(r\"$\\frac{\\Delta G_{MAX}}{G_{MAX,0}}$\")\n",
    "ax[1].legend()\n",
    "ax[1].grid(axis=\"y\")\n",
    "plt.show();"
   ]
  },
  {
   "cell_type": "code",
   "execution_count": null,
   "id": "c6820e52",
   "metadata": {
    "ExecuteTime": {
     "start_time": "2022-11-14T17:16:28.136Z"
    }
   },
   "outputs": [],
   "source": [
    "df_n_x[df_n_x.delta_Gain <=0.01].Values.max()\n",
    "df_n_y[df_n_y.delta_Gain <=0.01].Values.max()\n",
    "df_n_z[df_n_z.delta_Gain <=0.01].Values.max()"
   ]
  },
  {
   "cell_type": "markdown",
   "id": "c8b7f268",
   "metadata": {
    "tags": []
   },
   "source": [
    "### Rotações do Feed"
   ]
  },
  {
   "cell_type": "code",
   "execution_count": null,
   "id": "62412272",
   "metadata": {
    "ExecuteTime": {
     "start_time": "2022-11-14T17:16:28.203Z"
    },
    "execution": {
     "iopub.execute_input": "2022-11-12T15:54:31.883272Z",
     "iopub.status.busy": "2022-11-12T15:54:31.883027Z",
     "iopub.status.idle": "2022-11-12T15:54:31.988852Z",
     "shell.execute_reply": "2022-11-12T15:54:31.988326Z",
     "shell.execute_reply.started": "2022-11-12T15:54:31.883256Z"
    },
    "tags": []
   },
   "outputs": [],
   "source": [
    "df_gain_rot_x, dfs_rot_x = grasp.load_cuts(\"../data/raw/grasp/job_central__feed_0_0_0_*_0/*.cut\")\n",
    "df_gain_rot_y, dfs_rot_y = grasp.load_cuts(\"../data/raw/grasp/job_central__feed_0_0_0_0_*/*.cut\")"
   ]
  },
  {
   "cell_type": "code",
   "execution_count": null,
   "id": "59dba942",
   "metadata": {
    "ExecuteTime": {
     "start_time": "2022-11-14T17:16:28.205Z"
    },
    "execution": {
     "iopub.execute_input": "2022-11-12T15:54:32.682630Z",
     "iopub.status.busy": "2022-11-12T15:54:32.682413Z",
     "iopub.status.idle": "2022-11-12T15:54:32.952252Z",
     "shell.execute_reply": "2022-11-12T15:54:32.951760Z",
     "shell.execute_reply.started": "2022-11-12T15:54:32.682613Z"
    },
    "tags": []
   },
   "outputs": [],
   "source": [
    "# Visualização da coleção de padrões de feixe.\n",
    "fig, ax = plt.subplots(ncols=2, figsize=(12, 4), sharey=True)\n",
    "for ii, df in enumerate(dfs_rot_x):\n",
    "    grasp.plot_beam_pattern(df, ax=ax[0], label=str(df_gain_rot_x.Values[ii]) + \"cm\", norm=False);\n",
    "ax[0].set_xlim([-1, 1])\n",
    "ax[0].set_ylim([-20,60])\n",
    "ax[0].set_title(\"Rotation X\")\n",
    "ax[0].legend(ncols=3, loc=(0.1, -0.5))\n",
    "for ii, df in enumerate(dfs_rot_y):\n",
    "    grasp.plot_beam_pattern(df, ax=ax[1], label=str(df_gain_rot_y.Values[ii]) + \"cm\", norm=False);\n",
    "ax[1].set_xlim([-1, 1])\n",
    "ax[1].set_ylim([-20,60])\n",
    "ax[1].set_title(\"Rotation Y\")\n",
    "ax[1].legend(ncols=3, loc=(0.1, -0.5))\n",
    "plt.show();"
   ]
  },
  {
   "cell_type": "code",
   "execution_count": null,
   "id": "33d56190",
   "metadata": {
    "ExecuteTime": {
     "start_time": "2022-11-14T17:16:28.207Z"
    }
   },
   "outputs": [],
   "source": [
    "df_gain_rot_x_s = df_gain_rot_x.sort_values(by=\"Values\")\n",
    "df_gain_rot_y_s = df_gain_rot_y.sort_values(by=\"Values\")"
   ]
  },
  {
   "cell_type": "code",
   "execution_count": null,
   "id": "ba090e8d",
   "metadata": {
    "ExecuteTime": {
     "start_time": "2022-11-14T17:16:28.210Z"
    }
   },
   "outputs": [],
   "source": [
    "fig, ax = plt.subplots(ncols=2, figsize=(12, 4), sharey=True)\n",
    "ax[0].plot(df_gain_rot_x_s.Values, df_gain_rot_x_s.Gain, label = \"Gain\", marker=\"+\", linewidth=0.5)\n",
    "ax[0].plot(df_gain_rot_x_s.Values, df_gain_rot_x_s.eta_spill, label = \"Spill-Over\", marker=\"+\", linewidth=0.5, linestyle=\"dotted\")\n",
    "ax[0].plot(df_gain_rot_x_s.Values, df_gain_rot_x_s.eta_pol, label = \"Polarization\", marker=\"+\", linewidth=0.5, linestyle=\"dotted\")\n",
    "ax[0].plot(df_gain_rot_x_s.Values, df_gain_rot_x_s.eta_amp, label = \"Amplitude\", marker=\"+\", linewidth=0.5, linestyle=\"dotted\")\n",
    "ax[0].plot(df_gain_rot_x_s.Values, df_gain_rot_x_s.eta_phase, label = \"phase\", marker=\"+\", linewidth=0.5, linestyle=\"dotted\")\n",
    "ax[0].set_title(\"Rotation X\")\n",
    "ax[0].set_xlabel(r\"$\\theta\\;(^\\circ)$\")\n",
    "ax[0].set_ylabel(\"Efficiency\")\n",
    "ax[0].legend(ncols=5, loc=(0.3, -0.3))\n",
    "ax[1].plot(df_gain_rot_y_s.Values, df_gain_rot_y_s.Gain, label = \"Gain\", marker=\"+\", linewidth=0.5)\n",
    "ax[1].plot(df_gain_rot_y_s.Values, df_gain_rot_y_s.eta_spill, label = \"Spill-Over\", marker=\"+\", linewidth=0.5, linestyle=\"dotted\")\n",
    "ax[1].plot(df_gain_rot_y_s.Values, df_gain_rot_y_s.eta_pol, label = \"Polarization\", marker=\"+\", linewidth=0.5, linestyle=\"dotted\")\n",
    "ax[1].plot(df_gain_rot_y_s.Values, df_gain_rot_y_s.eta_amp, label = \"Amplitude\", marker=\"+\", linewidth=0.5, linestyle=\"dotted\")\n",
    "ax[1].plot(df_gain_rot_y_s.Values, df_gain_rot_y_s.eta_phase, label = \"phase\", marker=\"+\", linewidth=0.5, linestyle=\"dotted\")\n",
    "ax[1].set_title(\"Rotation Y\")\n",
    "ax[1].set_xlabel(r\"$\\theta\\;(^\\circ)$\")\n",
    "plt.show();"
   ]
  },
  {
   "cell_type": "code",
   "execution_count": null,
   "id": "237b7bfe",
   "metadata": {
    "ExecuteTime": {
     "start_time": "2022-11-14T17:16:28.213Z"
    }
   },
   "outputs": [],
   "source": [
    "fig, ax = plt.subplots(ncols=2, figsize=(12, 4), sharey=True)\n",
    "ax[0].plot(df_gain_rot_x_s.Values, df_gain_rot_x_s.FWHM * 2, marker=\"+\", linewidth=0.5)\n",
    "ax[0].set_title(\"Rotation X\")\n",
    "ax[0].set_xlabel(r\"$\\theta\\;(^\\circ)$\")\n",
    "ax[0].set_ylabel(r\"FWHM $(^\\circ)$\")\n",
    "ax[1].plot(df_gain_rot_y_s.Values, df_gain_rot_y_s.FWHM * 2, marker=\"+\", linewidth=0.5)\n",
    "ax[1].set_title(\"Rotation Y\")\n",
    "ax[0].set_xlabel(r\"$\\theta\\;(^\\circ)$\")\n",
    "plt.show();"
   ]
  },
  {
   "cell_type": "code",
   "execution_count": null,
   "id": "611fdd44",
   "metadata": {
    "ExecuteTime": {
     "start_time": "2022-11-14T17:16:28.215Z"
    }
   },
   "outputs": [],
   "source": [
    "df_n_y_rot = grasp.normalize(df_gain_rot_x_s)\n",
    "df_n_x_rot = grasp.normalize(df_gain_rot_y_s)"
   ]
  },
  {
   "cell_type": "code",
   "execution_count": null,
   "id": "ffbb6449",
   "metadata": {
    "ExecuteTime": {
     "start_time": "2022-11-14T17:16:28.217Z"
    }
   },
   "outputs": [],
   "source": [
    "fig, ax = plt.subplots(ncols=2)\n",
    "ax[0].scatter(df_n_y_rot.Values, df_n_y_rot.delta_Gain, label=\"translation y\")\n",
    "ax[0].scatter(df_n_x_rot.Values, df_n_x_rot.delta_Gain, label=\"translation x\")\n",
    "ax[0].set_xlabel(\"Deslocamento (m)\")\n",
    "ax[0].set_ylabel(r\"$\\frac{\\Delta G}{G_0}$\")\n",
    "ax[0].legend()\n",
    "ax[0].grid(axis=\"y\")\n",
    "ax[0].set_ylim([0, 0.002])\n",
    "ax[1].scatter(df_n_y_rot.Values, df_n_y_rot.delta_Gain_Max, label=\"translation y\")\n",
    "ax[1].scatter(df_n_x_rot.Values, df_n_x_rot.delta_Gain_Max, label=\"translation x\")\n",
    "ax[1].set_xlabel(\"Deslocamento (m)\")\n",
    "ax[1].set_ylabel(r\"$\\frac{\\Delta G_{MAX}}{G_{MAX,0}}$\")\n",
    "ax[1].legend()\n",
    "ax[1].grid(axis=\"y\")\n",
    "plt.show();"
   ]
  },
  {
   "cell_type": "code",
   "execution_count": null,
   "id": "3a69e169",
   "metadata": {
    "ExecuteTime": {
     "start_time": "2022-11-14T17:16:28.219Z"
    }
   },
   "outputs": [],
   "source": [
    "df_n_x_rot[df_n_x_rot.delta_Gain <=0.01].Values.max()\n",
    "df_n_y_rot[df_n_y_rot.delta_Gain <=0.01].Values.max()"
   ]
  },
  {
   "cell_type": "markdown",
   "id": "9b6569fe",
   "metadata": {},
   "source": [
    "### Translações do Secundário"
   ]
  },
  {
   "cell_type": "code",
   "execution_count": null,
   "id": "2f8cc5e4",
   "metadata": {
    "ExecuteTime": {
     "start_time": "2022-11-14T17:16:28.261Z"
    },
    "execution": {
     "iopub.execute_input": "2022-11-12T15:54:57.121376Z",
     "iopub.status.busy": "2022-11-12T15:54:57.121141Z",
     "iopub.status.idle": "2022-11-12T15:54:57.295372Z",
     "shell.execute_reply": "2022-11-12T15:54:57.294783Z",
     "shell.execute_reply.started": "2022-11-12T15:54:57.121358Z"
    },
    "tags": []
   },
   "outputs": [],
   "source": [
    "df_gain_sec_x, dfs_sec_x = grasp.load_cuts(\"../data/raw/grasp/job_central__secondary_*_0_0_0_0/*.cut\")\n",
    "df_gain_sec_y, dfs_sec_y = grasp.load_cuts(\"../data/raw/grasp/job_central__secondary_0_*_0_0_0/*.cut\")\n",
    "df_gain_sec_z, dfs_sec_z = grasp.load_cuts(\"../data/raw/grasp/job_central__secondary_0_0_*_0_0/*.cut\")"
   ]
  },
  {
   "cell_type": "code",
   "execution_count": null,
   "id": "9670a2ec",
   "metadata": {
    "ExecuteTime": {
     "start_time": "2022-11-14T17:16:28.263Z"
    }
   },
   "outputs": [],
   "source": [
    "# Visualização da coleção de padrões de feixe.\n",
    "fig, ax = plt.subplots(ncols=3, figsize=(12, 4), sharey=True)\n",
    "for ii, df in enumerate(dfs_sec_x):\n",
    "    grasp.plot_beam_pattern(df, ax=ax[0], label=str(df_gain_sec_x.Values[ii]) + \"cm\", norm=False);\n",
    "ax[0].set_xlim([-1, 1])\n",
    "ax[0].set_ylim([-20,60])\n",
    "ax[0].set_title(\"Translation X\")\n",
    "ax[0].legend(ncols=2, loc=(0.1, -0.5))\n",
    "for ii, df in enumerate(dfs_sec_y):\n",
    "    grasp.plot_beam_pattern(df, ax=ax[1], label=str(df_gain_sec_y.Values[ii]) + \"cm\", norm=False);\n",
    "ax[1].set_xlim([-1, 1])\n",
    "ax[1].set_ylim([-20,60])\n",
    "ax[1].set_title(\"Translation Y\")\n",
    "ax[1].legend(ncols=2, loc=(0.1, -0.5))\n",
    "for ii, df in enumerate(dfs_sec_z):\n",
    "    grasp.plot_beam_pattern(df, ax=ax[2], label=str(df_gain_sec_z.Values[ii]) + \"cm\", norm=False);\n",
    "ax[2].set_xlim([-1, 1])\n",
    "ax[2].set_ylim([-20,60])\n",
    "ax[2].set_title(\"Translation Z\")\n",
    "ax[2].legend(ncols=2, loc=(0.1, -0.5))\n",
    "plt.show();"
   ]
  },
  {
   "cell_type": "code",
   "execution_count": null,
   "id": "3c3dfe1c",
   "metadata": {
    "ExecuteTime": {
     "start_time": "2022-11-14T17:16:28.265Z"
    }
   },
   "outputs": [],
   "source": [
    "df_gain_x_sec_s = df_gain_sec_x.sort_values(by=\"Values\")\n",
    "df_gain_y_sec_s = df_gain_sec_y.sort_values(by=\"Values\")\n",
    "df_gain_z_sec_s = df_gain_sec_z.sort_values(by=\"Values\")"
   ]
  },
  {
   "cell_type": "code",
   "execution_count": null,
   "id": "e06db4d8",
   "metadata": {
    "ExecuteTime": {
     "start_time": "2022-11-14T17:16:28.267Z"
    }
   },
   "outputs": [],
   "source": [
    "fig, ax = plt.subplots(ncols=3, figsize=(12, 4), sharey=True)\n",
    "ax[0].plot(df_gain_x_sec_s.Values, df_gain_x_sec_s.Gain, label = \"Gain\", marker=\"+\", linewidth=0.5)\n",
    "ax[0].plot(df_gain_x_sec_s.Values, df_gain_x_sec_s.eta_spill, label = \"Spill-Over\", marker=\"+\", linewidth=0.5, linestyle=\"dotted\")\n",
    "ax[0].plot(df_gain_x_sec_s.Values, df_gain_x_sec_s.eta_pol, label = \"Polarization\", marker=\"+\", linewidth=0.5, linestyle=\"dotted\")\n",
    "ax[0].plot(df_gain_x_sec_s.Values, df_gain_x_sec_s.eta_amp, label = \"Amplitude\", marker=\"+\", linewidth=0.5, linestyle=\"dotted\")\n",
    "ax[0].plot(df_gain_x_sec_s.Values, df_gain_x_sec_s.eta_phase, label = \"phase\", marker=\"+\", linewidth=0.5, linestyle=\"dotted\")\n",
    "ax[0].set_title(\"Translation X\")\n",
    "ax[0].set_xlabel(\"displacement (m)\")\n",
    "ax[0].set_ylabel(\"Efficiency\")\n",
    "ax[0].legend(ncols=5, loc=(0.6, -0.3))\n",
    "ax[1].plot(df_gain_y_sec_s.Values, df_gain_y_sec_s.Gain, label = \"Gain\", marker=\"+\", linewidth=0.5)\n",
    "ax[1].plot(df_gain_y_sec_s.Values, df_gain_y_sec_s.eta_spill, label = \"Spill-Over\", marker=\"+\", linewidth=0.5, linestyle=\"dotted\")\n",
    "ax[1].plot(df_gain_y_sec_s.Values, df_gain_y_sec_s.eta_pol, label = \"Polarization\", marker=\"+\", linewidth=0.5, linestyle=\"dotted\")\n",
    "ax[1].plot(df_gain_y_sec_s.Values, df_gain_y_sec_s.eta_amp, label = \"Amplitude\", marker=\"+\", linewidth=0.5, linestyle=\"dotted\")\n",
    "ax[1].plot(df_gain_y_sec_s.Values, df_gain_y_sec_s.eta_phase, label = \"phase\", marker=\"+\", linewidth=0.5, linestyle=\"dotted\")\n",
    "ax[1].set_title(\"Translation Y\")\n",
    "ax[1].set_xlabel(\"displacement (m)\")\n",
    "ax[2].plot(df_gain_z_sec_s.Values, df_gain_z_sec_s.Gain, label = \"Gain\", marker=\"+\", linewidth=0.5)\n",
    "ax[2].plot(df_gain_z_sec_s.Values, df_gain_z_sec_s.eta_spill, label = \"Spill-Over\", marker=\"+\", linewidth=0.5, linestyle=\"dotted\")\n",
    "ax[2].plot(df_gain_z_sec_s.Values, df_gain_z_sec_s.eta_pol, label = \"Polarization\", marker=\"+\", linewidth=0.5, linestyle=\"dotted\")\n",
    "ax[2].plot(df_gain_z_sec_s.Values, df_gain_z_sec_s.eta_amp, label = \"Amplitude\", marker=\"+\", linewidth=0.5, linestyle=\"dotted\")\n",
    "ax[2].plot(df_gain_z_sec_s.Values, df_gain_z_sec_s.eta_phase, label = \"phase\", marker=\"+\", linewidth=0.5, linestyle=\"dotted\")\n",
    "ax[2].set_title(\"Translation Z\")\n",
    "ax[2].set_xlabel(\"displacement (m)\")\n",
    "plt.show();"
   ]
  },
  {
   "cell_type": "code",
   "execution_count": null,
   "id": "84063630",
   "metadata": {
    "ExecuteTime": {
     "start_time": "2022-11-14T17:16:28.269Z"
    }
   },
   "outputs": [],
   "source": [
    "fig, ax = plt.subplots(ncols=3, figsize=(12, 4), sharey=True)\n",
    "ax[0].plot(df_gain_x_sec_s.Values, df_gain_x_sec_s.FWHM * 2, marker=\"+\", linewidth=0.5)\n",
    "ax[0].set_title(\"Translation X\")\n",
    "ax[0].set_xlabel(\"displacement (m)\")\n",
    "ax[0].set_ylabel(r\"FWHM $(^\\circ)$\")\n",
    "ax[1].plot(df_gain_y_sec_s.Values, df_gain_y_sec_s.FWHM * 2, marker=\"+\", linewidth=0.5)\n",
    "ax[1].set_title(\"Translation Y\")\n",
    "ax[1].set_xlabel(\"displacement (m)\")\n",
    "ax[2].plot(df_gain_z.Values, df_gain_z.FWHM * 2, marker=\"+\", linewidth=0.5)\n",
    "ax[2].set_title(\"Translation Z\")\n",
    "ax[2].set_xlabel(\"displacement (m)\")\n",
    "plt.show();"
   ]
  },
  {
   "cell_type": "code",
   "execution_count": null,
   "id": "2efc6cc1",
   "metadata": {
    "ExecuteTime": {
     "start_time": "2022-11-14T17:16:28.271Z"
    }
   },
   "outputs": [],
   "source": [
    "df_n_z_sec = grasp.normalize(df_gain_z_sec_s)\n",
    "df_n_y_sec = grasp.normalize(df_gain_y_sec_s)\n",
    "df_n_x_sec = grasp.normalize(df_gain_x_sec_s)"
   ]
  },
  {
   "cell_type": "code",
   "execution_count": null,
   "id": "b02bf2d7",
   "metadata": {
    "ExecuteTime": {
     "start_time": "2022-11-14T17:16:28.273Z"
    }
   },
   "outputs": [],
   "source": [
    "fig, ax = plt.subplots(ncols=2)\n",
    "ax[0].scatter(df_n_z_sec.Values, df_n_z_sec.delta_Gain, label=\"translation z\")\n",
    "ax[0].scatter(df_n_y_sec.Values, df_n_y_sec.delta_Gain, label=\"translation y\")\n",
    "ax[0].scatter(df_n_x_sec.Values, df_n_x_sec.delta_Gain, label=\"translation x\")\n",
    "ax[0].set_xlabel(\"Deslocamento (m)\")\n",
    "ax[0].set_ylabel(r\"$\\frac{\\Delta G}{G_0}$\")\n",
    "ax[0].legend()\n",
    "ax[0].grid(axis=\"y\")\n",
    "ax[1].scatter(df_n_z_sec.Values, df_n_z_sec.delta_Gain_Max, label=\"translation z\")\n",
    "ax[1].scatter(df_n_y_sec.Values, df_n_y_sec.delta_Gain_Max, label=\"translation y\")\n",
    "ax[1].scatter(df_n_x_sec.Values, df_n_x_sec.delta_Gain_Max, label=\"translation x\")\n",
    "ax[1].set_xlabel(\"Deslocamento (m)\")\n",
    "ax[1].set_ylabel(r\"$\\frac{\\Delta G_{MAX}}{G_{MAX,0}}$\")\n",
    "ax[1].legend()\n",
    "ax[1].grid(axis=\"y\")\n",
    "plt.show();"
   ]
  },
  {
   "cell_type": "code",
   "execution_count": null,
   "id": "2709e9f6",
   "metadata": {
    "ExecuteTime": {
     "start_time": "2022-11-14T17:16:28.276Z"
    }
   },
   "outputs": [],
   "source": [
    "df_n_x_sec[df_n_x_sec.delta_Gain <=0.01].Values.max()\n",
    "df_n_y_sec[df_n_y_sec.delta_Gain <=0.01].Values.max()\n",
    "df_n_z_sec[df_n_z_sec.delta_Gain <=0.01].Values.max()"
   ]
  },
  {
   "cell_type": "code",
   "execution_count": null,
   "id": "65f4db74",
   "metadata": {
    "ExecuteTime": {
     "start_time": "2022-11-14T17:16:28.279Z"
    }
   },
   "outputs": [],
   "source": [
    "df_n_x_sec[df_n_x_sec.delta_Gain <=0.1]"
   ]
  },
  {
   "cell_type": "markdown",
   "id": "62d32777",
   "metadata": {},
   "source": [
    "## Conclusões"
   ]
  },
  {
   "cell_type": "markdown",
   "id": "bc9e1e68",
   "metadata": {},
   "source": [
    "If we demand a variation less then 1% due to possible optics misalignement we constrain  the engineering accuracy with the following parameters:\n",
    "\n",
    "| Type | Object | Axis | Accuracy |\n",
    "|------|--------|------|----------|\n",
    "| Translation | Feed | X | $<0.001$m|\n",
    "| Translation | Feed | Y | $<0.05$m|\n",
    "| Translation | Feed | Z | $<0.05$m|\n",
    "| Translation | Secondary | X | $<0.001$m|\n",
    "| Translation | Secondary | Y | $<0.05$m|\n",
    "| Translation | Secondary | Z | $<0.05$m|\n",
    "| Rotation | Feed | X | $<1^\\circ$|\n",
    "| Rotation | Feed | Y | $<0.8^\\circ$|"
   ]
  }
 ],
 "metadata": {
  "hide_input": false,
  "kernelspec": {
   "display_name": "GNURADIO3.10",
   "language": "python",
   "name": "gnuradio3.10"
  },
  "language_info": {
   "codemirror_mode": {
    "name": "ipython",
    "version": 3
   },
   "file_extension": ".py",
   "mimetype": "text/x-python",
   "name": "python",
   "nbconvert_exporter": "python",
   "pygments_lexer": "ipython3",
   "version": "3.10.6"
  },
  "latex_envs": {
   "LaTeX_envs_menu_present": true,
   "autoclose": true,
   "autocomplete": false,
   "bibliofile": "biblio.bib",
   "cite_by": "apalike",
   "current_citInitial": 1,
   "eqLabelWithNumbers": true,
   "eqNumInitial": 1,
   "hotkeys": {
    "equation": "Ctrl-E",
    "itemize": "Ctrl-I"
   },
   "labels_anchors": false,
   "latex_user_defs": false,
   "report_style_numbering": true,
   "user_envs_cfg": false
  },
  "toc": {
   "base_numbering": 1,
   "nav_menu": {},
   "number_sections": false,
   "sideBar": true,
   "skip_h1_title": true,
   "title_cell": "Table of Contents",
   "title_sidebar": "Contents",
   "toc_cell": false,
   "toc_position": {},
   "toc_section_display": true,
   "toc_window_display": false
  }
 },
 "nbformat": 4,
 "nbformat_minor": 5
}
