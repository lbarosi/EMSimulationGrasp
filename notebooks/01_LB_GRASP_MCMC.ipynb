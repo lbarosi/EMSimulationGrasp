{
 "cells": [
  {
   "cell_type": "markdown",
   "id": "voluntary-turning",
   "metadata": {},
   "source": [
    "# Análise do GRASP MCMC"
   ]
  },
  {
   "cell_type": "markdown",
   "id": "provincial-penny",
   "metadata": {},
   "source": [
    "## Inicialização"
   ]
  },
  {
   "cell_type": "code",
   "execution_count": 1,
   "id": "eleven-binding",
   "metadata": {
    "ExecuteTime": {
     "end_time": "2022-11-14T14:17:28.994734Z",
     "start_time": "2022-11-14T14:17:27.971536Z"
    },
    "execution": {
     "iopub.execute_input": "2022-11-14T17:51:54.019754Z",
     "iopub.status.busy": "2022-11-14T17:51:54.019423Z",
     "iopub.status.idle": "2022-11-14T17:51:54.753760Z",
     "shell.execute_reply": "2022-11-14T17:51:54.753271Z",
     "shell.execute_reply.started": "2022-11-14T17:51:54.019713Z"
    },
    "tags": []
   },
   "outputs": [],
   "source": [
    "import os\n",
    "import sys\n",
    "import glob\n",
    "from IPython.core.interactiveshell import InteractiveShell\n",
    "from IPython.display import display\n",
    "#-----\n",
    "import time\n",
    "import subprocess\n",
    "import emcee\n",
    "from getdist import plots as gdplt\n",
    "from getdist import MCSamples\n",
    "import matplotlib.pyplot as plt\n",
    "import numpy as np\n",
    "import pandas as pd\n",
    "sys.path.append(os.path.abspath(os.path.join(os.path.split(os.getcwd())[0], \"src\")))\n",
    "import grasp\n",
    "#-----\n",
    "%matplotlib inline\n",
    "plt.rcParams[\"figure.figsize\"] = (16, 6)\n",
    "InteractiveShell.ast_node_interactivity = \"all\""
   ]
  },
  {
   "cell_type": "markdown",
   "id": "a9638574",
   "metadata": {},
   "source": [
    "## Emcee Analysis"
   ]
  },
  {
   "cell_type": "code",
   "execution_count": 2,
   "id": "edee5a01",
   "metadata": {
    "ExecuteTime": {
     "end_time": "2022-11-14T14:17:29.709860Z",
     "start_time": "2022-11-14T14:17:29.703431Z"
    },
    "execution": {
     "iopub.execute_input": "2022-11-14T17:51:56.095173Z",
     "iopub.status.busy": "2022-11-14T17:51:56.094514Z",
     "iopub.status.idle": "2022-11-14T17:51:56.101232Z",
     "shell.execute_reply": "2022-11-14T17:51:56.100915Z",
     "shell.execute_reply.started": "2022-11-14T17:51:56.095095Z"
    },
    "tags": []
   },
   "outputs": [],
   "source": [
    "def make_tor_mcmc(*thetas):\n",
    "    dirname = \"../grasp/STANDARD/tmp_mcmc/\"\n",
    "    # cria pasta\n",
    "    if not os.path.isdir(dirname):\n",
    "        os.mkdir(dirname)\n",
    "    filename = dirname + str(np.random.randint(10000000)) + \".tor\"\n",
    "    feed_string1 = grasp.move_feed(y=thetas[0])\n",
    "    # grava arquivo tor\n",
    "    grasp._make_tor(filename, feed_string1, \"../grasp/STANDARD/BINGO_CUT_fast.tor\", 15, 7)\n",
    "    sec_string = grasp.translate_secondary(y=thetas[1])\n",
    "    grasp._make_tor(filename, sec_string, filename, 7, 0)\n",
    "    return filename"
   ]
  },
  {
   "cell_type": "code",
   "execution_count": 3,
   "id": "1248c6ec",
   "metadata": {
    "ExecuteTime": {
     "end_time": "2022-11-14T14:17:30.537818Z",
     "start_time": "2022-11-14T14:17:30.511765Z"
    },
    "execution": {
     "iopub.execute_input": "2022-11-14T17:51:57.259403Z",
     "iopub.status.busy": "2022-11-14T17:51:57.258775Z",
     "iopub.status.idle": "2022-11-14T17:51:57.271017Z",
     "shell.execute_reply": "2022-11-14T17:51:57.270594Z",
     "shell.execute_reply.started": "2022-11-14T17:51:57.259327Z"
    },
    "tags": []
   },
   "outputs": [],
   "source": [
    "df00 = grasp.read_cut(\"../grasp/STANDARD/tmp_mcmc/cut00.cut\")\n",
    "best_params = [0, 0]\n",
    "\n",
    "def residual(df):\n",
    "    FWHM = grasp.get_FWHM(df)\n",
    "    gain_max = grasp.gain_max(df, FWHM)\n",
    "    FWHM_0 = grasp.get_FWHM(df00)\n",
    "    gain_0 = grasp.gain_max(df00, FWHM)\n",
    "    result = - np.abs(gain_max - gain_0)/gain_0\n",
    "    return result\n",
    "    \n",
    "    \n",
    "def log_prior(thetas, t1_range=[-.2, .2], t2_range=[-.2, .2]):\n",
    "    if (thetas[0] < 0.2) and (thetas[0] > -0.2):\n",
    "        result = 0\n",
    "    else:\n",
    "        result = -np.inf\n",
    "    return result\n",
    "\n",
    "\n",
    "def log_likelyhood(thetas):\n",
    "    tor_file = make_tor_mcmc(*thetas)\n",
    "    _ = grasp.run_grasp(tor_file, \n",
    "                    gpxfile=\"../grasp/STANDARD/batch.gxp\", \n",
    "                    tcifile=\"../grasp/STANDARD/BINGO_SIMPLES.tci\", \n",
    "                    daemon=False)\n",
    "    cut_file = \"..\" + tor_file.split(\".\")[-2] + \".cut\"\n",
    "    df = grasp.read_cut(cut_file)\n",
    "    result = - residual(df)\n",
    "    return result\n",
    "\n",
    "\n",
    "def log_posterior(thetas):\n",
    "    result = log_prior(thetas) + log_likelyhood(thetas)\n",
    "    return result"
   ]
  },
  {
   "cell_type": "code",
   "execution_count": 9,
   "id": "b96449fd",
   "metadata": {
    "ExecuteTime": {
     "end_time": "2022-11-14T14:17:33.933635Z",
     "start_time": "2022-11-14T14:17:33.926944Z"
    },
    "execution": {
     "iopub.execute_input": "2022-11-14T18:38:05.263785Z",
     "iopub.status.busy": "2022-11-14T18:38:05.263153Z",
     "iopub.status.idle": "2022-11-14T18:38:05.268721Z",
     "shell.execute_reply": "2022-11-14T18:38:05.268396Z",
     "shell.execute_reply.started": "2022-11-14T18:38:05.263710Z"
    },
    "tags": []
   },
   "outputs": [],
   "source": [
    "ndim = len(best_params)\n",
    "nburn = 1\n",
    "nwalkers = 5\n",
    "nsteps = 20\n",
    "starting_guesses = np.random.normal(loc=0, scale=0.1, size=(nwalkers, ndim) )"
   ]
  },
  {
   "cell_type": "code",
   "execution_count": 10,
   "id": "764a6e47",
   "metadata": {
    "ExecuteTime": {
     "end_time": "2022-11-14T14:21:52.275970Z",
     "start_time": "2022-11-14T14:20:39.622370Z"
    },
    "execution": {
     "iopub.execute_input": "2022-11-14T18:38:06.099843Z",
     "iopub.status.busy": "2022-11-14T18:38:06.099266Z",
     "iopub.status.idle": "2022-11-15T04:11:13.692797Z",
     "shell.execute_reply": "2022-11-15T04:11:13.692341Z",
     "shell.execute_reply.started": "2022-11-14T18:38:06.099770Z"
    },
    "tags": []
   },
   "outputs": [
    {
     "name": "stderr",
     "output_type": "stream",
     "text": [
      "/home/luciano/.conda/envs/grasp/lib/python3.10/site-packages/emcee/moves/red_blue.py:99: RuntimeWarning: invalid value encountered in double_scalars\n",
      "  lnpdiff = f + nlp - state.log_prob[j]\n",
      "  5%|▌         | 1/20 [27:01<8:33:30, 1621.61s/it]/home/luciano/.conda/envs/grasp/lib/python3.10/site-packages/emcee/moves/red_blue.py:99: RuntimeWarning: invalid value encountered in double_scalars\n",
      "  lnpdiff = f + nlp - state.log_prob[j]\n",
      " 10%|█         | 2/20 [54:04<8:06:39, 1622.20s/it]/home/luciano/.conda/envs/grasp/lib/python3.10/site-packages/emcee/moves/red_blue.py:99: RuntimeWarning: invalid value encountered in double_scalars\n",
      "  lnpdiff = f + nlp - state.log_prob[j]\n",
      " 15%|█▌        | 3/20 [1:21:05<7:39:28, 1621.66s/it]/home/luciano/.conda/envs/grasp/lib/python3.10/site-packages/emcee/moves/red_blue.py:99: RuntimeWarning: invalid value encountered in double_scalars\n",
      "  lnpdiff = f + nlp - state.log_prob[j]\n",
      " 20%|██        | 4/20 [1:48:14<7:13:12, 1624.51s/it]/home/luciano/.conda/envs/grasp/lib/python3.10/site-packages/emcee/moves/red_blue.py:99: RuntimeWarning: invalid value encountered in double_scalars\n",
      "  lnpdiff = f + nlp - state.log_prob[j]\n",
      " 25%|██▌       | 5/20 [2:15:29<6:47:05, 1628.37s/it]/home/luciano/.conda/envs/grasp/lib/python3.10/site-packages/emcee/moves/red_blue.py:99: RuntimeWarning: invalid value encountered in double_scalars\n",
      "  lnpdiff = f + nlp - state.log_prob[j]\n",
      " 30%|███       | 6/20 [2:42:52<6:21:06, 1633.35s/it]/home/luciano/.conda/envs/grasp/lib/python3.10/site-packages/emcee/moves/red_blue.py:99: RuntimeWarning: invalid value encountered in double_scalars\n",
      "  lnpdiff = f + nlp - state.log_prob[j]\n",
      " 35%|███▌      | 7/20 [3:10:12<5:54:24, 1635.72s/it]/home/luciano/.conda/envs/grasp/lib/python3.10/site-packages/emcee/moves/red_blue.py:99: RuntimeWarning: invalid value encountered in double_scalars\n",
      "  lnpdiff = f + nlp - state.log_prob[j]\n",
      " 40%|████      | 8/20 [3:37:36<5:27:38, 1638.18s/it]/home/luciano/.conda/envs/grasp/lib/python3.10/site-packages/emcee/moves/red_blue.py:99: RuntimeWarning: invalid value encountered in double_scalars\n",
      "  lnpdiff = f + nlp - state.log_prob[j]\n",
      " 45%|████▌     | 9/20 [4:04:57<5:00:31, 1639.19s/it]/home/luciano/.conda/envs/grasp/lib/python3.10/site-packages/emcee/moves/red_blue.py:99: RuntimeWarning: invalid value encountered in double_scalars\n",
      "  lnpdiff = f + nlp - state.log_prob[j]\n",
      " 50%|█████     | 10/20 [4:32:18<4:33:16, 1639.70s/it]/home/luciano/.conda/envs/grasp/lib/python3.10/site-packages/emcee/moves/red_blue.py:99: RuntimeWarning: invalid value encountered in double_scalars\n",
      "  lnpdiff = f + nlp - state.log_prob[j]\n",
      " 55%|█████▌    | 11/20 [4:59:51<4:06:33, 1643.72s/it]/home/luciano/.conda/envs/grasp/lib/python3.10/site-packages/emcee/moves/red_blue.py:99: RuntimeWarning: invalid value encountered in double_scalars\n",
      "  lnpdiff = f + nlp - state.log_prob[j]\n",
      " 60%|██████    | 12/20 [5:27:10<3:38:58, 1642.35s/it]/home/luciano/.conda/envs/grasp/lib/python3.10/site-packages/emcee/moves/red_blue.py:99: RuntimeWarning: invalid value encountered in double_scalars\n",
      "  lnpdiff = f + nlp - state.log_prob[j]\n",
      " 65%|██████▌   | 13/20 [5:54:43<3:11:59, 1645.58s/it]/home/luciano/.conda/envs/grasp/lib/python3.10/site-packages/emcee/moves/red_blue.py:99: RuntimeWarning: invalid value encountered in double_scalars\n",
      "  lnpdiff = f + nlp - state.log_prob[j]\n",
      " 70%|███████   | 14/20 [6:22:02<2:44:21, 1643.54s/it]/home/luciano/.conda/envs/grasp/lib/python3.10/site-packages/emcee/moves/red_blue.py:99: RuntimeWarning: invalid value encountered in double_scalars\n",
      "  lnpdiff = f + nlp - state.log_prob[j]\n",
      " 75%|███████▌  | 15/20 [6:49:31<2:17:05, 1645.20s/it]/home/luciano/.conda/envs/grasp/lib/python3.10/site-packages/emcee/moves/red_blue.py:99: RuntimeWarning: invalid value encountered in double_scalars\n",
      "  lnpdiff = f + nlp - state.log_prob[j]\n",
      " 80%|████████  | 16/20 [7:16:45<1:49:26, 1641.66s/it]/home/luciano/.conda/envs/grasp/lib/python3.10/site-packages/emcee/moves/red_blue.py:99: RuntimeWarning: invalid value encountered in double_scalars\n",
      "  lnpdiff = f + nlp - state.log_prob[j]\n",
      " 85%|████████▌ | 17/20 [7:44:03<1:22:02, 1640.75s/it]/home/luciano/.conda/envs/grasp/lib/python3.10/site-packages/emcee/moves/red_blue.py:99: RuntimeWarning: invalid value encountered in double_scalars\n",
      "  lnpdiff = f + nlp - state.log_prob[j]\n",
      "100%|██████████| 20/20 [9:06:08<00:00, 1638.42s/it]  \n"
     ]
    }
   ],
   "source": [
    "import emcee\n",
    "\n",
    "filename = \"../grasp/STANDARD/tmp_mcmc/grasp_chains.h5\"\n",
    "backend = emcee.backends.HDFBackend(filename)\n",
    "backend.reset(nwalkers, ndim)\n",
    "\n",
    "#with Pool() as pool:\n",
    "#    sampler = emcee.EnsembleSampler(nwalkers, ndim, log_posterior, pool=pool)\n",
    "sampler = emcee.EnsembleSampler(nwalkers, ndim, log_posterior, backend=backend)\n",
    "sampler.run_mcmc(starting_guesses, nsteps, progress=True);"
   ]
  },
  {
   "cell_type": "code",
   "execution_count": 11,
   "id": "7fea69ad-06c7-4812-8c43-60822f059d7e",
   "metadata": {
    "execution": {
     "iopub.execute_input": "2022-11-15T11:07:43.676129Z",
     "iopub.status.busy": "2022-11-15T11:07:43.675507Z",
     "iopub.status.idle": "2022-11-15T11:07:43.681004Z",
     "shell.execute_reply": "2022-11-15T11:07:43.680637Z",
     "shell.execute_reply.started": "2022-11-15T11:07:43.676052Z"
    },
    "tags": []
   },
   "outputs": [],
   "source": [
    "reader = emcee.backends.HDFBackend(filename)"
   ]
  },
  {
   "cell_type": "code",
   "execution_count": 12,
   "id": "6a50d8c2-a50e-44b2-adfe-3e783e83acd8",
   "metadata": {
    "execution": {
     "iopub.execute_input": "2022-11-15T11:07:44.876668Z",
     "iopub.status.busy": "2022-11-15T11:07:44.876080Z",
     "iopub.status.idle": "2022-11-15T11:07:44.882825Z",
     "shell.execute_reply": "2022-11-15T11:07:44.882502Z",
     "shell.execute_reply.started": "2022-11-15T11:07:44.876595Z"
    },
    "tags": []
   },
   "outputs": [],
   "source": [
    "samples = reader.get_chain(flat=True)"
   ]
  },
  {
   "cell_type": "code",
   "execution_count": 13,
   "id": "81f5705b",
   "metadata": {
    "execution": {
     "iopub.execute_input": "2022-11-15T11:07:47.688141Z",
     "iopub.status.busy": "2022-11-15T11:07:47.687520Z",
     "iopub.status.idle": "2022-11-15T11:07:48.165108Z",
     "shell.execute_reply": "2022-11-15T11:07:48.164679Z",
     "shell.execute_reply.started": "2022-11-15T11:07:47.688064Z"
    }
   },
   "outputs": [
    {
     "name": "stderr",
     "output_type": "stream",
     "text": [
      "WARNING:root:auto bandwidth for a very small or failed (h=0.0005138840448684435,N_eff=100.0). Using fallback (h=0.032323097634666245)\n",
      "WARNING:root:auto bandwidth for a very small or failed (h=0.0005138840448684435,N_eff=100.0). Using fallback (h=0.032323097634666245)\n",
      "WARNING:root:auto bandwidth for b very small or failed (h=0.00048477375873533154,N_eff=100.0). Using fallback (h=0.02510539306279027)\n",
      "WARNING:root:auto bandwidth for b very small or failed (h=0.00048477375873533154,N_eff=100.0). Using fallback (h=0.02510539306279027)\n",
      "WARNING:root:fine_bins_2D not large enough for optimal density: a, b\n"
     ]
    },
    {
     "name": "stdout",
     "output_type": "stream",
     "text": [
      "Removed no burn in\n"
     ]
    },
    {
     "data": {
      "image/png": "[encoded data removed]",
      "text/plain": [
       "<Figure size 400x400 with 3 Axes>"
      ]
     },
     "metadata": {},
     "output_type": "display_data"
    }
   ],
   "source": [
    "samples = MCSamples(samples=samples,names = [\"a\", \"b\"], labels = [\"a\", \"b\"])\n",
    "\n",
    "g = gdplt.get_subplot_plotter()\n",
    "g.settings.figure_legend_frame = False\n",
    "g.settings.alpha_filled_add=0.4\n",
    "g.settings.title_limit_fontsize = 14\n",
    "g.triangle_plot(samples, ['a', 'b'], \n",
    "    filled=True, \n",
    "    legend_loc='upper right', \n",
    "    title_limit=3\n",
    "               )\n",
    "plt.show();"
   ]
  },
  {
   "cell_type": "code",
   "execution_count": 14,
   "id": "d7e10b64",
   "metadata": {
    "execution": {
     "iopub.execute_input": "2022-11-15T11:16:06.694631Z",
     "iopub.status.busy": "2022-11-15T11:16:06.694018Z",
     "iopub.status.idle": "2022-11-15T11:16:06.699383Z",
     "shell.execute_reply": "2022-11-15T11:16:06.698916Z",
     "shell.execute_reply.started": "2022-11-15T11:16:06.694554Z"
    }
   },
   "outputs": [
    {
     "data": {
      "text/plain": [
       "<getdist.mcsamples.MCSamples at 0x7eff6cc8bfa0>"
      ]
     },
     "execution_count": 14,
     "metadata": {},
     "output_type": "execute_result"
    }
   ],
   "source": [
    "samples"
   ]
  },
  {
   "cell_type": "code",
   "execution_count": null,
   "id": "8f815002",
   "metadata": {},
   "outputs": [],
   "source": []
  }
 ],
 "metadata": {
  "hide_input": false,
  "kernelspec": {
   "display_name": "grasp",
   "language": "python",
   "name": "grasp"
  },
  "language_info": {
   "codemirror_mode": {
    "name": "ipython",
    "version": 3
   },
   "file_extension": ".py",
   "mimetype": "text/x-python",
   "name": "python",
   "nbconvert_exporter": "python",
   "pygments_lexer": "ipython3",
   "version": "3.10.6"
  },
  "latex_envs": {
   "LaTeX_envs_menu_present": true,
   "autoclose": true,
   "autocomplete": false,
   "bibliofile": "biblio.bib",
   "cite_by": "apalike",
   "current_citInitial": 1,
   "eqLabelWithNumbers": true,
   "eqNumInitial": 1,
   "hotkeys": {
    "equation": "Ctrl-E",
    "itemize": "Ctrl-I"
   },
   "labels_anchors": false,
   "latex_user_defs": false,
   "report_style_numbering": true,
   "user_envs_cfg": false
  },
  "toc": {
   "base_numbering": 1,
   "nav_menu": {},
   "number_sections": false,
   "sideBar": true,
   "skip_h1_title": true,
   "title_cell": "Table of Contents",
   "title_sidebar": "Contents",
   "toc_cell": false,
   "toc_position": {},
   "toc_section_display": true,
   "toc_window_display": false
  }
 },
 "nbformat": 4,
 "nbformat_minor": 5
}
