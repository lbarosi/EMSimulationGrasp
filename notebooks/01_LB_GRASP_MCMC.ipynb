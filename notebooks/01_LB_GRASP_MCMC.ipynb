{
 "cells": [
  {
   "cell_type": "markdown",
   "id": "voluntary-turning",
   "metadata": {},
   "source": [
    "# Análise do GRASP MCMC"
   ]
  },
  {
   "cell_type": "markdown",
   "id": "2ec4ac08",
   "metadata": {},
   "source": [
    "$$G =10 \\log_{10}\\left[\\left\\Vert 2\\pi\\int_{-\\theta_0}^{\\theta_0} E_{CO} \\cos\\theta\\;d\\theta \\right\\Vert^2\\right]$$    \n",
    "\n",
    "$$G_{max} = 10 \\log_{10} \\frac{\\Vert E\\Vert_{max}}{\\int_{-\\theta_0}^{\\theta_0} \\Vert E \\Vert^2 \\cos\\theta\\;d\\theta}$$"
   ]
  },
  {
   "cell_type": "markdown",
   "id": "provincial-penny",
   "metadata": {},
   "source": [
    "## Inicialização"
   ]
  },
  {
   "cell_type": "code",
   "execution_count": 1,
   "id": "eleven-binding",
   "metadata": {
    "ExecuteTime": {
     "end_time": "2022-11-11T23:36:21.580513Z",
     "start_time": "2022-11-11T23:36:20.795404Z"
    }
   },
   "outputs": [],
   "source": [
    "import os\n",
    "import sys\n",
    "import glob\n",
    "from IPython.core.interactiveshell import InteractiveShell\n",
    "from IPython.display import display\n",
    "#-----\n",
    "import time\n",
    "import subprocess\n",
    "import matplotlib.pyplot as plt\n",
    "import numpy as np\n",
    "import pandas as pd\n",
    "sys.path.append(os.path.abspath(os.path.join(os.path.split(os.getcwd())[0], \"src\")))\n",
    "import grasp\n",
    "#-----\n",
    "%matplotlib inline\n",
    "plt.rcParams[\"figure.figsize\"] = (16, 6)\n",
    "InteractiveShell.ast_node_interactivity = \"all\""
   ]
  },
  {
   "cell_type": "markdown",
   "id": "a9638574",
   "metadata": {},
   "source": [
    "## Emcee Analysis"
   ]
  },
  {
   "cell_type": "code",
   "execution_count": 21,
   "id": "edee5a01",
   "metadata": {
    "ExecuteTime": {
     "end_time": "2022-11-12T01:22:21.653428Z",
     "start_time": "2022-11-12T01:22:21.642417Z"
    }
   },
   "outputs": [],
   "source": [
    "def make_tor_mcmc(*thetas):\n",
    "    dirname = \"../grasp/STANDARD/tmp_mcmc/\"\n",
    "    # cria pasta\n",
    "    if not os.path.isdir(dirname):\n",
    "        os.mkdir(dirname)\n",
    "    filename = dirname + str(np.random.randint(10000000)) + \".tor\"\n",
    "    feed_string1 = grasp.move_feed(y=thetas[0])\n",
    "    # grava arquivo tor\n",
    "    grasp._make_tor(filename, feed_string1, \"../grasp/STANDARD/BINGO_CUT_fast.tor\", 15, 7)\n",
    "    sec_string = grasp.translate_secondary(y=thetas[1])\n",
    "    grasp._make_tor(filename, sec_string, filename, 7, 0)\n",
    "    return filename"
   ]
  },
  {
   "cell_type": "code",
   "execution_count": null,
   "id": "8f6c0ce1",
   "metadata": {},
   "outputs": [],
   "source": [
    "params = np.round(np.linspace(-.5, .5, 7), 1)\n",
    "files = []\n",
    "fys = []\n",
    "sys = []\n",
    "gains = []\n",
    "for ii, fy in enumerate(params):\n",
    "    for jj, sy in enumerate(params):\n",
    "        tor_file = make_tor_mcmc(fy, sy)\n",
    "        _ = grasp.run_grasp(tor_file, daemon=False)\n",
    "        cut_file = \"../\" + tor_file.split(\".\")[-2] + \".cut\"\n",
    "        df = grasp.read_cut(cut_file)\n",
    "        gain = grasp.gain_dB(df)\n",
    "        files.append(cut_file)\n",
    "        fys.append(fy)\n",
    "        sys.append(sy)\n",
    "        gains.append(gain)\n",
    "result = pd.DataFrame({\"cut_files\": files, \"fy\": fys}, \"sy\": sys, \"Gain\": gains)"
   ]
  },
  {
   "cell_type": "code",
   "execution_count": null,
   "id": "ebabdb25",
   "metadata": {},
   "outputs": [],
   "source": []
  },
  {
   "cell_type": "code",
   "execution_count": null,
   "id": "1248c6ec",
   "metadata": {
    "ExecuteTime": {
     "end_time": "2022-11-11T15:01:34.747393Z",
     "start_time": "2022-11-11T15:01:34.723837Z"
    }
   },
   "outputs": [],
   "source": [
    "best_fit = grasp.read_cut(\"../grasp/STANDARD/job_feed_translation_x_0/dual_cut01\")\n",
    "best_params = [0, 0]\n",
    "\n",
    "def residual(df, n_params):\n",
    "    result = np.sqrt(np.sum( ((df.Eco**2 + df.ImEco**2) - (best_fit.Eco**2 + best_fit.ImEco**2)) ** 2)) / (best_fit.shape[0] - n_params)\n",
    "    return result\n",
    "    \n",
    "    \n",
    "def log_prior(*thetas, t1_range=[-5, 5], t2_range=[-5, 5]):\n",
    "    if thetas[0] > t1_range[0] and thetas[0] < t1_range[1]:\n",
    "        if thetas[1] > t2_range[0] and thetas[1] < t2_range[1]:\n",
    "            result = 0\n",
    "        else:\n",
    "            result = -np.inf\n",
    "    else:\n",
    "        result = -np.inf\n",
    "    return result\n",
    "\n",
    "\n",
    "def log_likelyhood(*thetas):\n",
    "    tor_file = make_tor_mcmc(*thetas)\n",
    "    grasp.run_grasp(tor_file, daemon=False)\n",
    "    df = grasp.read_cut(\"../grasp/STANDARD/tmp_mcmc/\"+tor_file + \".cut\")\n",
    "    result = - residual(df, len(thetas))\n",
    "    return result\n",
    "\n",
    "\n",
    "def log_posterior(thetas):\n",
    "    result = log_prior(thetas) + log_likelyhood(thetas)\n",
    "    return result"
   ]
  },
  {
   "cell_type": "code",
   "execution_count": null,
   "id": "bcc159ee",
   "metadata": {
    "ExecuteTime": {
     "end_time": "2022-11-11T16:15:57.512091Z",
     "start_time": "2022-11-11T16:15:57.112019Z"
    }
   },
   "outputs": [],
   "source": [
    "tor_file = make_tor_mcmc(1, 1)\n",
    "tor_file\n",
    "#grasp.run_grasp(tor_file, daemon=False)"
   ]
  },
  {
   "cell_type": "code",
   "execution_count": null,
   "id": "a7f656ea",
   "metadata": {
    "ExecuteTime": {
     "end_time": "2022-11-11T15:01:35.571867Z",
     "start_time": "2022-11-11T15:01:35.556660Z"
    }
   },
   "outputs": [],
   "source": [
    "df = grasp.read_cut(\"../grasp/STANDARD/tmp_mcmc/dual_cut01\")"
   ]
  },
  {
   "cell_type": "code",
   "execution_count": null,
   "id": "a8cb7367",
   "metadata": {
    "ExecuteTime": {
     "end_time": "2022-11-11T14:36:54.824252Z",
     "start_time": "2022-11-11T14:36:54.791883Z"
    }
   },
   "outputs": [],
   "source": [
    "ndim = len(best_params)\n",
    "nburn = 1\n",
    "nwalkers = 2\n",
    "nsteps = 20\n",
    "starting_guesses = np.random.normal(loc=0, scale=0.1, size=(nwalkers, ndim) )\n"
   ]
  },
  {
   "cell_type": "code",
   "execution_count": null,
   "id": "a4d5d0d9",
   "metadata": {},
   "outputs": [],
   "source": [
    "sampler = emcee.EnsembleSampler(nwalkers, ndim, log_posterior, args=[xx, yy], pool=pool)\n",
    "sampler.run_mcmc(starting_guesses, nsteps, progress=True);"
   ]
  },
  {
   "cell_type": "code",
   "execution_count": null,
   "id": "02a47b13",
   "metadata": {},
   "outputs": [],
   "source": [
    "samples = sampler.get_chain(discard=nburn, flat=True)\n",
    "thetas = np.zeros(ndim)\n",
    "errs = np.zeros(ndim)\n",
    "for ii in np.arange(ndim):\n",
    "    mcmc = np.percentile(samples[:, ii], [5, 50, 95])\n",
    "    thetas[ii] = mcmc[1]\n",
    "    errs[ii] = (mcmc[2] - mcmc[0])/2"
   ]
  },
  {
   "cell_type": "code",
   "execution_count": null,
   "id": "732f8a96",
   "metadata": {},
   "outputs": [],
   "source": []
  },
  {
   "cell_type": "code",
   "execution_count": null,
   "id": "2881a6d4",
   "metadata": {},
   "outputs": [],
   "source": []
  },
  {
   "cell_type": "code",
   "execution_count": null,
   "id": "dee1eb66",
   "metadata": {},
   "outputs": [],
   "source": []
  },
  {
   "cell_type": "markdown",
   "id": "cb5773b5",
   "metadata": {},
   "source": []
  },
  {
   "cell_type": "code",
   "execution_count": null,
   "id": "396e4d2f",
   "metadata": {},
   "outputs": [],
   "source": []
  }
 ],
 "metadata": {
  "hide_input": false,
  "kernelspec": {
   "display_name": "GNURADIO3.10",
   "language": "python",
   "name": "gnuradio3.10"
  },
  "language_info": {
   "codemirror_mode": {
    "name": "ipython",
    "version": 3
   },
   "file_extension": ".py",
   "mimetype": "text/x-python",
   "name": "python",
   "nbconvert_exporter": "python",
   "pygments_lexer": "ipython3",
   "version": "3.10.6"
  },
  "latex_envs": {
   "LaTeX_envs_menu_present": true,
   "autoclose": true,
   "autocomplete": false,
   "bibliofile": "biblio.bib",
   "cite_by": "apalike",
   "current_citInitial": 1,
   "eqLabelWithNumbers": true,
   "eqNumInitial": 1,
   "hotkeys": {
    "equation": "Ctrl-E",
    "itemize": "Ctrl-I"
   },
   "labels_anchors": false,
   "latex_user_defs": false,
   "report_style_numbering": true,
   "user_envs_cfg": false
  },
  "toc": {
   "base_numbering": 1,
   "nav_menu": {},
   "number_sections": false,
   "sideBar": true,
   "skip_h1_title": true,
   "title_cell": "Table of Contents",
   "title_sidebar": "Contents",
   "toc_cell": false,
   "toc_position": {},
   "toc_section_display": true,
   "toc_window_display": false
  }
 },
 "nbformat": 4,
 "nbformat_minor": 5
}
